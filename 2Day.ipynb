{
 "cells": [
  {
   "cell_type": "code",
   "execution_count": 2,
   "id": "79fae81e-9939-46e0-98b1-54f3a187620a",
   "metadata": {},
   "outputs": [
    {
     "name": "stdout",
     "output_type": "stream",
     "text": [
      "['Life', 'is', 'too', 'short']\n",
      "[1, 3, 5, 6]\n"
     ]
    }
   ],
   "source": [
    "'''\n",
    "리터널 :  숫자리터널 : 정수 리터널 :  10, 13 \n",
    "                     실수 리터널 :  10.5, 100.6\n",
    "          문자열 리터널 : \"\",'',   \"\"\" \"\"\", ''' ''' : 행바꿈\n",
    "숫자 리터널의 연산자 : + , - , * , / , //:몫 , % : 나머지, ** : 제곱승\n",
    "문저열 리터널 연산자 : + : 연결연산자 , * : 반복연산자\n",
    "                     indexing, slicing, 내장함수              \n",
    "'''\n",
    "str1 = \"Life is too short\"\n",
    "# 문자열 쪼개기\n",
    "l = str1.split() # 문자열을 리스트로 반환한다.\n",
    "print(l) # ['Life', 'is', 'too', 'short'] : 리스트\n",
    "# 리스트 : [] : 하나이상의 값을 저장하기 위해서 사용\n",
    "i = 10\n",
    "f = 10.5\n",
    "l1 = [1, 3, 5, 6]\n",
    "print(l1)"
   ]
  },
  {
   "cell_type": "code",
   "execution_count": null,
   "id": "cca754fb-797e-447d-aa83-3fd73dfa63db",
   "metadata": {},
   "outputs": [],
   "source": [
    "l2 = [] # 빈 리스트\n",
    "l3 = [1, 2, 3, 4, 5] # 정수형 리스트\n",
    "l4 = [10.5, 2.5, 12.3] # 실수형 리스트\n",
    "l5 = ['이숭무', 'apple' ] #문자열 리스트\n",
    "l6 = [1,2,3, '이숭무', 2.4, 6.7] # 혼홥형 리스트\n",
    "l7 = [ [1,2,3] , [4,5,6] ] # 리스트를 포함한 리스트\n",
    "l8 = [ 7,8,9, [1,2,3] ,'이숭무', [4,5,6] ] # 리스트를 포함한 혼합형 리스트"
   ]
  },
  {
   "cell_type": "code",
   "execution_count": 14,
   "id": "00a90cdd-5519-4528-a098-ce47b2636690",
   "metadata": {},
   "outputs": [
    {
     "name": "stdout",
     "output_type": "stream",
     "text": [
      "e\n",
      "e\n",
      "e\n",
      "4\n",
      "3\n",
      "7\n",
      "is\n",
      "too\n",
      "istoo\n",
      "2\n",
      "Life\n",
      "LifeLife\n",
      "Life2\n",
      "short\n"
     ]
    }
   ],
   "source": [
    "# indexing\n",
    "str1 = \"Life is too short\"\n",
    "#                 1\n",
    "#       01234567890123456 : index\n",
    "print(str1[3])\n",
    "print(str1[-14])\n",
    "print(str1[-len(str1) + 3])\n",
    "     # 리스트가 가지고 있는 값을 요소라고 한다.\n",
    "l1 = [1, 2, 3, 4, 5, 6]\n",
    "#     0  1  2  3  4  5\n",
    "#   - 6  5  4  3  2  1 \n",
    "print(l1[3]) # 4 : 요소의 자료형으로 출력 : 정수\n",
    "print(l1[-4]) # 3 : 정수\n",
    "print( l1[3] + l1[-4] ) # 숫자 연산 : 4 + 3\n",
    "\n",
    "l2 = ['Life', 'is', 'too', 'short'] # 문자열 리스트\n",
    "#       0       1     2       3\n",
    "print(l2[1]) # 문자열 : is\n",
    "print(l2[2]) # 문자열 : too\n",
    "print(l2[1] + l2[2]) # 문자열 연산\n",
    "\n",
    "l3 = [1, 2, 3, 'Life', 'is', 'too', 'short']\n",
    "print(l3[1]) # 2 : 정수\n",
    "print(l3[3]) # 'Life' : 문자열\n",
    "print(l3[3] * l3[1]) # 'Life' * 2 : 문자열 * 정수 : 문자열 반복\n",
    "# print(l3[3] + l3[1])  # 'Life' + 2 : 문자열 + 정수 \n",
    "print(l3[3] + str(l3[1])) # 'Life' + '2'\n",
    "print(l3[6]) # short\n",
    "#              01234\n",
    "print(l3[6])\n",
    "print(l3[6][2])"
   ]
  },
  {
   "cell_type": "code",
   "execution_count": 17,
   "id": "ade06311-2bee-4bf5-ab1e-5e62f875b294",
   "metadata": {},
   "outputs": [
    {
     "name": "stdout",
     "output_type": "stream",
     "text": [
      "['Life', 'is', 'too', 'short', '3']\n",
      "Life3\n",
      "LifeLifeLife\n"
     ]
    }
   ],
   "source": [
    "str3 = \"Life is too short 3\"\n",
    "l4 = str3.split() # 리스트를 반환\n",
    "print(l4) # ['Life', 'is', 'too', 'short', '3']\n",
    "#              0       1      2      3      4\n",
    "print(l4[0] + l4[4]) # 문자열 + 문자열\n",
    "print(l4[0] * int(l4[4])) # 문자열 * int(문자열) : int('3')"
   ]
  },
  {
   "cell_type": "code",
   "execution_count": null,
   "id": "fb67ff76-34c7-433e-a4a5-c41c093c89ed",
   "metadata": {},
   "outputs": [],
   "source": [
    "a = [1, 2, 3, 4, ['a', 'Life', 'c']] # 리스트를 포함한 리스트\n",
    "#    0  1  2  3          4\n",
    "#   -5  4  3  2          1\n",
    "#                  0     1      2\n",
    "#                - 3     2      1\n",
    "print(a[3]) # 4\n",
    "print(a[4]) # ['a', 'Life', 'c']\n",
    "print(a[-2]) # 4\n",
    "print(a[-1]) # ['a', 'Life', 'c']\n",
    "#                0      1     2\n",
    "#              - 3      2     1\n",
    "print(a[-1][1]) # 'Life'\n",
    "print(a[-1][-2]) # 'Life'\n",
    "print(a[-1][1][1]) # 'i'\n",
    "print(a[-1][-2][1]) # 'i'"
   ]
  },
  {
   "cell_type": "code",
   "execution_count": 25,
   "id": "73029a40-b610-4473-aa39-2684028d98e0",
   "metadata": {},
   "outputs": [
    {
     "name": "stdout",
     "output_type": "stream",
     "text": [
      "Life is too short\n",
      "Life\n",
      "[1, 2, 3]\n",
      "2\n",
      "[2]\n",
      "5\n",
      "[2, 3]\n",
      "[3, 3, 3, 3]\n"
     ]
    }
   ],
   "source": [
    "# slicing\n",
    "str1 = \"Life is too short\"\n",
    "#                 1 \n",
    "#       01234567890123456\n",
    "print(str1)\n",
    "print(str1[0:0+4])\n",
    "# 리스트 = list\n",
    "l = [1, 2, 3, 4]\n",
    "#    0  1  2  3\n",
    "print(l[ 0 : 0 + 3]) # [1, 2, 3]\n",
    "print(l[1]) # 2 : 정수\n",
    "print(l[1: 1 + 1]) # [2] # 리스트 반환\n",
    "print(l[1] + l[2]) # 정수 + 정수 = 2 + 3 = 5 \n",
    "print(l[1:1+1] + l[2:2+1]) # [2] + [3] # + : 연결 연산자\n",
    "print(l[2:2+1] * l[3] ) #  리스트 * 정수 : 반복 연산자\n",
    "\n",
    "print([1,2,3] + [4,5,6]) # [1,2,3,4,5,6]\n",
    "print([1,2,3] * 3 ) # [1,2,3,1,2,3,1,2,3]\n",
    "l = [1,2,3]\n",
    "l1 = [4,5,6]\n",
    "print(l + l1) # 연결 연산자\n",
    "print(l * 3 ) # 반복연산자"
   ]
  },
  {
   "cell_type": "code",
   "execution_count": 31,
   "id": "39d7d456-d14c-45d0-8ac9-7f394df527ee",
   "metadata": {},
   "outputs": [
    {
     "name": "stdout",
     "output_type": "stream",
     "text": [
      "Your leg is too short\n",
      "['Life', 'is', 'too', 'short']\n",
      "Life\n",
      "['Your leg', 'is', 'too', 'short']\n",
      "2\n",
      "[1, 10, 3, 4]\n"
     ]
    }
   ],
   "source": [
    "str1 = 'Life is too short'\n",
    "### 'Life'를 ' Your leg'\n",
    "str2 = str1.replace(\"Life\", \"Your leg\");\n",
    "print(str2)\n",
    "l1 = str1.split()\n",
    "print(l1) # ['Life', 'is', 'too', 'short']\n",
    "print(l1[0]) # Life\n",
    "l1[0] = 'Your leg' # 요소번호(index)를 이용해서 요소의 값을 변경할 수 있다.\n",
    "print(l1)\n",
    "l2 = [1,2,3,4]\n",
    "print(l2[1]) # 1\n",
    "l2[1] = 10\n",
    "print(l2)"
   ]
  },
  {
   "cell_type": "code",
   "execution_count": 38,
   "id": "3c583fa7-40d1-487b-a57e-cc482ce596bd",
   "metadata": {},
   "outputs": [
    {
     "name": "stdout",
     "output_type": "stream",
     "text": [
      "['Life', 'is', 'too']\n",
      "['Life', 'is', 'too', 'short']\n",
      "['Life', 'is', ['too', 'short']]\n",
      "['Life', 'is', 'too', 'short']\n",
      "['Life', 'too', 'short']\n",
      "['Life', 'is', 'too', 'short']\n"
     ]
    }
   ],
   "source": [
    "# 리스트 내장 함수 : 데이터를 가공하기 위해서 사용\n",
    "### 리스트에 요소 추가\n",
    "# append\n",
    "l1= ['Life', 'is']\n",
    "# 'is'다음에 'too'를 추가\n",
    "l1.append('too')\n",
    "print(l1) # ['Life', 'is', 'too']\n",
    "l1.append('short') # 요소를 하나씩 추가 한다.\n",
    "print(l1)\n",
    "l1= ['Life', 'is']\n",
    "l1.append( ['too', 'short'] ) \n",
    "print(l1)\n",
    "# 확장 : extend\n",
    "l1= ['Life', 'is']\n",
    "l1.extend(['too', 'short']) # 여러개를 추가 할 때는 extend\n",
    "print(l1)\n",
    "# 삽입 : 원하는 index에 저장\n",
    "l1 = ['Life','short'] \n",
    "#       0       1\n",
    "l1.insert(1,'too')\n",
    "print(l1) # ['Life', 'too', 'short']\n",
    "l1.insert(1, 'is')\n",
    "print(l1)  # ['Life', 'is', 'too', 'short']\n",
    "# append, extend, insert"
   ]
  },
  {
   "cell_type": "code",
   "execution_count": 41,
   "id": "e31aea53-877a-4f98-a6b6-8245808e52fa",
   "metadata": {},
   "outputs": [
    {
     "name": "stdout",
     "output_type": "stream",
     "text": [
      "1\n",
      "['Life', 'is', 'too', 'short', 2, 3]\n",
      "[2, 3]\n",
      "['Life', 'is', 'too', 'short']\n"
     ]
    }
   ],
   "source": [
    "#요소 삭제 내장 함수\n",
    "l1 = ['Life', 'is', 'too', 'short', 1, 2, 3]\n",
    "# indexing을 이용하여 요소 삭제\n",
    "print(l1[4])\n",
    "del l1[4]\n",
    "print(l1) # ['Life', 'is', 'too', 'short', 2, 3]\n",
    "          #     0      1     2      3      4  5\n",
    "# slicing을 이용하여 요소 삭제\n",
    "print(l1[4:4+2]) \n",
    "del l1[4:4+2]\n",
    "print(l1) # ['Life', 'is', 'too', 'short']"
   ]
  },
  {
   "cell_type": "code",
   "execution_count": 53,
   "id": "98adc4e6-89d2-475d-aaf2-8d99029bfdea",
   "metadata": {},
   "outputs": [
    {
     "name": "stdout",
     "output_type": "stream",
     "text": [
      "['Life', 'too', 'short']\n",
      "['Life', 'too']\n",
      "['Life', 'is', 'too', 'short', 1, 3, [1, 2, 3]]\n",
      "['Life', 'is', 'too', 'short', 1, 3]\n",
      "['Life', 'is', 'too', 'short', 1]\n",
      "['Life', 'is', 'short', 1]\n",
      "is\n",
      "['Life', 'short', 1]\n"
     ]
    }
   ],
   "source": [
    "# 요소를 이용해서 삭제\n",
    "l = ['Life', 'is', 'too', 'short']\n",
    "l.remove('is')\n",
    "print(l)\n",
    "# 'short'를 삭제\n",
    "l.remove('short')\n",
    "print(l)\n",
    "l = ['Life', 'is', 'too', 'short', 1, 2, 3 , [1,2,3]]\n",
    "l.remove(2)\n",
    "print(l)\n",
    "l.remove([1,2,3])\n",
    "print(l) # ['Life', 'is', 'too', 'short', 1, 3]\n",
    "\n",
    "l =  ['Life', 'is', 'too', 'short', 1, 3]          \n",
    "#       0       1     2       3     4  5\n",
    "# index를 이용해서 삭제\n",
    "l.pop() # 마지막 요소 삭제\n",
    "print(l)\n",
    "l.pop(2) # index를 이용해서 삭제\n",
    "print(l) # ['Life', 'is', 'short', 1]\n",
    "#              0      1      2     3\n",
    "result = l.pop(1) # pop은 삭제 동시에 삭제된 요소를 반환해준다. \n",
    "                  # 비 복원 추출 : sampling without replacement\n",
    "                  # 주사위는 복원 추출 : sampling with replacement\n",
    "print(result)\n",
    "print(l)\n",
    "# del, remove, pop : 추출"
   ]
  },
  {
   "cell_type": "code",
   "execution_count": 60,
   "id": "6f9cc152-3844-47c5-82e7-332095176545",
   "metadata": {},
   "outputs": [
    {
     "name": "stdout",
     "output_type": "stream",
     "text": [
      "[1, 2, 3, 4, 5]\n",
      "[5, 4, 3, 2, 1]\n",
      "[3, 1, 5, 2, 4]\n",
      "['a', 'b', 'c']\n",
      "['apple', 'banana', '김찬중', '이숭무']\n"
     ]
    }
   ],
   "source": [
    "# 정렬 -- 오름차순, 내림차순\n",
    "l = [4, 2, 5, 1, 3]\n",
    "# 오름차순 : ascending : asc\n",
    "l.sort()\n",
    "print(l)\n",
    "# 내림차순 : descending : desc\n",
    "l = [4, 2, 5, 1, 3]\n",
    "l.sort(reverse=True)\n",
    "print(l)\n",
    "# 반대로 출력\n",
    "l = [4, 2, 5, 1, 3]\n",
    "l.reverse() \n",
    "print(l)\n",
    "l = ['a','c','b']\n",
    "l.sort()\n",
    "print(l) \n",
    "l = ['apple','이숭무',  'banana', '김찬중']\n",
    "l.sort()\n",
    "print(l) \n",
    "# l = ['apple','이숭무',  'banana', '김찬중', 1,2,3] \n",
    "# 문자열에 숫자가 포함되어 있으면 정렬되지 않는다.\n",
    "# sort(), sort(reverse=True) , reverse()"
   ]
  },
  {
   "cell_type": "code",
   "execution_count": 67,
   "id": "8bef4f58-57f8-4f11-87e0-a3797ecbf3ba",
   "metadata": {},
   "outputs": [
    {
     "name": "stdout",
     "output_type": "stream",
     "text": [
      "3\n",
      "3\n",
      "-1\n",
      "1\n"
     ]
    }
   ],
   "source": [
    "# 요소 번호 찾기\n",
    "str1 = 'apple'\n",
    "print(str1.index('l'))\n",
    "print(str1.find('l'))\n",
    "print(str1.find('t')) # -1 : 없으면 -1\n",
    "# print(str1.index('t')) # 오류 : 없는 문자열은 오류 발생\n",
    "l = ['apple','이숭무',  'banana', '김찬중']\n",
    "print(l.index('이숭무'))\n",
    "#print(l.index(1))\n",
    "#print(l.find(1)) # 'list' object has no attribute 'find'"
   ]
  },
  {
   "cell_type": "code",
   "execution_count": 74,
   "id": "4cdca13f-52ee-4913-be3a-f3155b0be128",
   "metadata": {},
   "outputs": [
    {
     "name": "stdout",
     "output_type": "stream",
     "text": [
      "[1]\n",
      "27\n",
      "3\n",
      "(3,)\n",
      "(3, 4)\n"
     ]
    }
   ],
   "source": [
    "'''\n",
    "리터널 자료형 : 자연수 리터널 : 숫자 리터널 : 정수 리터널, 실수리터널\n",
    "               자연어 리터널 : 문자열 리터널 : \"\", '' , \"\"\" \"\"\", ''' '''\n",
    "리스트 (list)\n",
    "       자료형 : [] : 하나 이상의 값을 저장하기 위해서 : [1, 2, 3, 4]\n",
    "튜플(tuple)\n",
    "       자료형 : () :                                 (1, 2, 3, 4)\n",
    "               () : 빈튜플\n",
    "               (1,) : 요소가 하나인 튜플 \n",
    "               (1,2,3,4) : 정수형 튜플\n",
    "                ('이숭무', '김찬중') : 문자열 튜플\n",
    "                ('이숭무', '김찬중',1,2,3) : 혼합형 튜플\n",
    "                ((1,2,3,4),(5,6,7,8)) : 튜플을 포함한 튜플\n",
    "                ((1,2,3,4),(5,6,7,8), 1,2,3, '이숭무') : 튜플을 포함한 혼합형 튜플\n",
    "                ([1,2,3,4], 1,2,3, '이수움') : 리스트를 포함한 혼합형 튜플\n",
    "                \n",
    "'''\n",
    "l = [(1,2,3), 4,5,6] # 튜플을 포함한 리스트\n",
    "print([1]) # 요소가 하나인 리스트 : [1]\n",
    "print( (5 + 4) * 3 ) # () : 최우선 연산자 \n",
    "print((3)) # 최우선 연산자 : 3\n",
    "print((3,)) # 튜플 # (3,)\n",
    "print((3,4))  # (3, 4)"
   ]
  },
  {
   "cell_type": "code",
   "execution_count": 79,
   "id": "b5eeb9ff-ecac-4ea1-86b4-7118ed9f76e3",
   "metadata": {},
   "outputs": [
    {
     "name": "stdout",
     "output_type": "stream",
     "text": [
      "1\n",
      "1\n",
      "1\n",
      "5\n",
      "(1, 2, 3, 4)\n",
      "1\n"
     ]
    }
   ],
   "source": [
    "# indexing\n",
    "l = [1, 2, 3, 4, 5]\n",
    "#    0  1  2  3  4\n",
    "print(l[0])\n",
    "t = (1, 2, 3, 4)\n",
    "#    0  1  2  3\n",
    "#   -4  3  2  1\n",
    "print(t[0])\n",
    "print(t[-4])\n",
    "size = len(l) # 요소의 갯수\n",
    "print(size)\n",
    "size = len(t) # 요소의 갯수\n",
    "print(t)\n",
    "print(t[-size])"
   ]
  },
  {
   "cell_type": "code",
   "execution_count": 88,
   "id": "518e8133-0abf-49ed-ac78-df9e07ed3b3a",
   "metadata": {},
   "outputs": [
    {
     "name": "stdout",
     "output_type": "stream",
     "text": [
      "i\n",
      "fe is\n",
      "is too short\n",
      "Life i\n",
      "2\n",
      "[3, 4, 3]\n",
      "[3, 4, 3]\n",
      "[1, 2, 3]\n",
      "2\n",
      "(3, 4, 3)\n",
      "(3, 4, 3)\n",
      "(1, 2, 3)\n",
      "3\n",
      "(3,)\n",
      "1\n",
      "1\n",
      "2\n"
     ]
    }
   ],
   "source": [
    "str1 = \"Life is too short\"\n",
    "#       0123456789\n",
    "print(str1[1])\n",
    "print(str1[2 : 2 + 5]) \n",
    "print(str1[ 5: ]) # 5부터 마지막 까지\n",
    "print(str1[ : 6 ]) # 처음부터 6글자\n",
    "l = [1, 2, 3, 4, 3]\n",
    "#    0  1  2  3  4\n",
    "print(l[1])\n",
    "print(l[2 : 2 + 3])\n",
    "print(l[2 : ]) # 2부터 마지막 까지의 요소\n",
    "print(l[ : 3]) # 처음부터 3개의 요소(element)\n",
    "t = (1, 2, 3, 4, 3)\n",
    "print(t[1])\n",
    "print(t[2 : 2+3])\n",
    "print(t[ 2 : ] )\n",
    "print(t[ : 3 ])\n",
    "print(t[2]) # indexing요소가 출력 : 3\n",
    "print(t[2:2+1]) # slicing은 튜플이다. \n",
    "\n",
    "print(l.index(2)) # 1\n",
    "print(t.index(2)) # 1\n",
    "# print(t.find(2))\n",
    "print(str1.count('i')) # i가 2개다\n",
    "print(l.count(2))\n",
    "print(t.count(2))\n",
    "print(len(str1))\n",
    "print(len(l))\n",
    "print(len(t))"
   ]
  },
  {
   "cell_type": "code",
   "execution_count": 94,
   "id": "75a4fac3-89d4-42e1-b365-b80f7beeb8ed",
   "metadata": {},
   "outputs": [
    {
     "name": "stdout",
     "output_type": "stream",
     "text": [
      "[1, 20, 3, 4, 3]\n",
      "[1, 3, 4, 3]\n",
      "(1, 2, 3, 4)\n",
      "(1, 2, 3, 4)\n"
     ]
    }
   ],
   "source": [
    "# 리스트와 튜플의 차이점\n",
    "l = [1, 2, 3, 4, 3]\n",
    "t = (1, 2, 3, 4, 3) # 처음에 정의된 상태 그대로 사용 : 상수\n",
    "l[1] = 20 # 리스트는 값을 변경 가능\n",
    "print(l)\n",
    "# t[1] = 20  # 튜플은 값을 변경할 수 없다.\n",
    "del l[1]\n",
    "print(l)\n",
    "# del t[1] : 삭제되지 않는다.\n",
    "# indexing, slicing, index(), len(), count()\n",
    "t = (1,2,3,4)\n",
    "print(t)\n",
    "t = 1,2,3,4 # tuple\n",
    "print(t)"
   ]
  },
  {
   "cell_type": "code",
   "execution_count": 101,
   "id": "02a20dec-5747-4478-a3b7-fee3c581e085",
   "metadata": {},
   "outputs": [
    {
     "name": "stdout",
     "output_type": "stream",
     "text": [
      "['h', 'e', 'l', 'l', 'o']\n",
      "('h', 'e', 'l', 'l', 'o')\n",
      "('h', 'e', 'l', 'l', 'o')\n",
      "['h', 'e', 'l', 'l', 'o']\n",
      "10\n",
      "1015\n",
      "31.0\n"
     ]
    }
   ],
   "source": [
    "# 변환함수\n",
    "str1 = \"hello\"\n",
    "l = list(str1)\n",
    "print(l)\n",
    "t = tuple(str1)\n",
    "print(t)\n",
    "t = tuple(l)\n",
    "print(t)\n",
    "l = list(t)\n",
    "print(l)\n",
    "a = \"10\"\n",
    "print(int(a))\n",
    "a = 10\n",
    "print(str(a) + \"15\")\n",
    "print(float(\"10.5\") + 20.5)"
   ]
  },
  {
   "cell_type": "code",
   "execution_count": 114,
   "id": "e54400cc-7ece-4bec-b6dd-7717d60f23a2",
   "metadata": {},
   "outputs": [
    {
     "name": "stdout",
     "output_type": "stream",
     "text": [
      "['Life', 'is', 'too', 'short']\n",
      "['Life', 'is', 'too', 'short']hello\n",
      "Lifeistooshort\n",
      "Life is too short\n",
      "Life:is:too:short\n",
      "L.i.f.e. .i.s. .t.o.o. .s.h.o.r.t\n",
      "Life is too short\n"
     ]
    }
   ],
   "source": [
    "l = ['Life', 'is', 'too', 'short' ]\n",
    "#리스트를 문자열로 변경\n",
    "print(str(l)) # \"['Life', 'is', 'too', 'short']\"\n",
    "#print(l + \"hello\")\n",
    "print(str(l) + \"hello\")\n",
    "print(\"\".join(l))\n",
    "print(\" \".join(l))\n",
    "print(\":\".join(l))\n",
    "str1 = \"Life is too short\"\n",
    "print(\".\".join(str1))\n",
    "t = ('Life', 'is', 'too', 'short' )\n",
    "print(\" \".join(t)) # 튜플을 문자열로 변경"
   ]
  },
  {
   "cell_type": "code",
   "execution_count": null,
   "id": "d4ef4a05-3bd3-4cb8-82b8-0a7f4f0f3428",
   "metadata": {},
   "outputs": [],
   "source": [
    "# 리터널 자료형 : 정수 , 실수 문자열\n",
    "# 리스트 자료형 : []\n",
    "# 튜플 자료형 : ()\n",
    "# 딕셔너리 자료형 : {} : 사전 자료형 : {\"단어\" :  \"내용\" ,...}\n",
    "#                  {\"키1\": \"값1\" , \"키2\": \"값2\", \"키3\": \"값3\", ..., \"키n\": \"값n\"}"
   ]
  }
 ],
 "metadata": {
  "kernelspec": {
   "display_name": "Python 3 (ipykernel)",
   "language": "python",
   "name": "python3"
  },
  "language_info": {
   "codemirror_mode": {
    "name": "ipython",
    "version": 3
   },
   "file_extension": ".py",
   "mimetype": "text/x-python",
   "name": "python",
   "nbconvert_exporter": "python",
   "pygments_lexer": "ipython3",
   "version": "3.13.3"
  }
 },
 "nbformat": 4,
 "nbformat_minor": 5
}
