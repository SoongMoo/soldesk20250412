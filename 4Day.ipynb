{
 "cells": [
  {
   "cell_type": "code",
   "execution_count": 16,
   "id": "fc2e8ec3-0a37-4dba-9d77-ed97856a6154",
   "metadata": {},
   "outputs": [],
   "source": [
    "# open(file, mode='r', buffering=None, encoding=None, errors=None, newline=None, closefd=True):\n",
    "f = open(\"test.txt\", encoding=\"utf-8\")"
   ]
  },
  {
   "cell_type": "code",
   "execution_count": 29,
   "id": "e78579af-c5e0-4c51-bcb1-f8e20f6993e5",
   "metadata": {},
   "outputs": [
    {
     "name": "stdout",
     "output_type": "stream",
     "text": [
      "\n"
     ]
    }
   ],
   "source": [
    "line = f.readline()\n",
    "print(line)\n",
    "f.close()"
   ]
  },
  {
   "cell_type": "code",
   "execution_count": 30,
   "id": "ea175a52-6318-4901-98f9-26b2dc1bef10",
   "metadata": {},
   "outputs": [
    {
     "name": "stdout",
     "output_type": "stream",
     "text": [
      "6번째 줄입니다.\n",
      "\n",
      "7번째 줄입니다.\n",
      "\n",
      "8번째 줄입니다.\n",
      "\n",
      "9번째 줄입니다.\n",
      "\n",
      "10번째 줄입니다.\n",
      "\n",
      "11번째 줄입니다.\n",
      "\n",
      "12번째 줄입니다.\n",
      "\n",
      "13번째 줄입니다.\n",
      "\n",
      "14번째 줄입니다.\n",
      "\n",
      "15번째 줄입니다.\n",
      "\n"
     ]
    }
   ],
   "source": [
    "f = open(\"test.txt\", encoding=\"utf-8\")\n",
    "while True:\n",
    "    line = f.readline()\n",
    "    if not line: # 값이 있으면 True, 값이 없으면 False\n",
    "        break    # not False : True\n",
    "    print(line)\n",
    "f.close()"
   ]
  },
  {
   "cell_type": "code",
   "execution_count": 35,
   "id": "75f7fac7-73b3-4430-ba3e-bc751a9ef37d",
   "metadata": {},
   "outputs": [
    {
     "name": "stdout",
     "output_type": "stream",
     "text": [
      "['6번째 줄입니다.\\n', '7번째 줄입니다.\\n', '8번째 줄입니다.\\n', '9번째 줄입니다.\\n', '10번째 줄입니다.\\n', '11번째 줄입니다.\\n', '12번째 줄입니다.\\n', '13번째 줄입니다.\\n', '14번째 줄입니다.\\n', '15번째 줄입니다.\\n']\n",
      "6번째 줄입니다.\n",
      "\n",
      "7번째 줄입니다.\n",
      "\n",
      "8번째 줄입니다.\n",
      "\n",
      "9번째 줄입니다.\n",
      "\n",
      "10번째 줄입니다.\n",
      "\n",
      "11번째 줄입니다.\n",
      "\n",
      "12번째 줄입니다.\n",
      "\n",
      "13번째 줄입니다.\n",
      "\n",
      "14번째 줄입니다.\n",
      "\n",
      "15번째 줄입니다.\n",
      "\n",
      "6번째 줄입니다.\n",
      "7번째 줄입니다.\n",
      "8번째 줄입니다.\n",
      "9번째 줄입니다.\n",
      "10번째 줄입니다.\n",
      "11번째 줄입니다.\n",
      "12번째 줄입니다.\n",
      "13번째 줄입니다.\n",
      "14번째 줄입니다.\n",
      "15번째 줄입니다.\n",
      "\n"
     ]
    }
   ],
   "source": [
    "f = open(\"test.txt\", encoding=\"utf-8\")\n",
    "lines = f.readlines()\n",
    "f.close()\n",
    "print(lines)\n",
    "for line in lines:\n",
    "    print(line)\n",
    "print(\"\".join(lines)) # 리스트를 문자열로 변환 : join()"
   ]
  },
  {
   "cell_type": "code",
   "execution_count": 37,
   "id": "5a6c48ee-ecb4-41db-88d8-76221b9ec6f1",
   "metadata": {},
   "outputs": [
    {
     "name": "stdout",
     "output_type": "stream",
     "text": [
      "6번째 줄입니다.\n",
      "7번째 줄입니다.\n",
      "8번째 줄입니다.\n",
      "9번째 줄입니다.\n",
      "10번째 줄입니다.\n",
      "11번째 줄입니다.\n",
      "12번째 줄입니다.\n",
      "13번째 줄입니다.\n",
      "14번째 줄입니다.\n",
      "15번째 줄입니다.\n",
      "\n"
     ]
    }
   ],
   "source": [
    "f = open(\"test.txt\", encoding=\"utf-8\")\n",
    "data = f.read()\n",
    "f.close() # open()함수에서는 close()는 필수이다.\n",
    "print(data)\n",
    "# readline : 한행씩, readlines : 리스트 , read : 문자열 전체"
   ]
  },
  {
   "cell_type": "code",
   "execution_count": 38,
   "id": "798c592e-2506-4643-a5dd-fd2905c8b813",
   "metadata": {},
   "outputs": [
    {
     "name": "stdout",
     "output_type": "stream",
     "text": [
      "6번째 줄입니다.\n",
      "\n",
      "7번째 줄입니다.\n",
      "\n",
      "8번째 줄입니다.\n",
      "\n",
      "9번째 줄입니다.\n",
      "\n",
      "10번째 줄입니다.\n",
      "\n",
      "11번째 줄입니다.\n",
      "\n",
      "12번째 줄입니다.\n",
      "\n",
      "13번째 줄입니다.\n",
      "\n",
      "14번째 줄입니다.\n",
      "\n",
      "15번째 줄입니다.\n",
      "\n"
     ]
    }
   ],
   "source": [
    "#close()를 사용하지 않아도 된다. : with\n",
    "with open(\"test.txt\", encoding=\"utf-8\") as f:\n",
    "    while True:\n",
    "        line = f.readline()\n",
    "        if not line:\n",
    "            break\n",
    "        print(line)"
   ]
  },
  {
   "cell_type": "code",
   "execution_count": 47,
   "id": "44ba4315-c35b-4a47-bed3-7969f4c876e1",
   "metadata": {},
   "outputs": [
    {
     "name": "stdout",
     "output_type": "stream",
     "text": [
      "1번째입니다.\n",
      "2번째입니다.\n",
      "3번째입니다.\n",
      "4번째입니다.\n",
      "5번째입니다.\n",
      "6번째입니다.\n",
      "7번째입니다.\n",
      "8번째입니다.\n",
      "9번째입니다.\n",
      "10번째입니다.\n",
      "\n"
     ]
    }
   ],
   "source": [
    "with open(\"test.txt\", encoding=\"utf-8\", mode=\"r\") as f:\n",
    "    data = f.read()\n",
    "print(data)"
   ]
  },
  {
   "cell_type": "code",
   "execution_count": 44,
   "id": "1c8fc828-b44c-4b15-9484-9843589e6ab9",
   "metadata": {},
   "outputs": [],
   "source": [
    "with open(\"test.txt\", encoding=\"utf-8\", mode=\"w\") as f:\n",
    "    for num in range(1, 6):\n",
    "        f.write(f\"{num}번째입니다.\\n\")"
   ]
  },
  {
   "cell_type": "code",
   "execution_count": 46,
   "id": "69b51c80-2252-4559-b4ec-7ae17c54879f",
   "metadata": {},
   "outputs": [],
   "source": [
    "with open(\"test.txt\", encoding=\"utf-8\", mode=\"a\") as f:\n",
    "    for num in range(6, 11):\n",
    "        f.write(f\"{num}번째입니다.\\n\")"
   ]
  },
  {
   "cell_type": "code",
   "execution_count": null,
   "id": "7559c18e-d3f8-4fca-94f8-10a4a3861c70",
   "metadata": {},
   "outputs": [],
   "source": [
    "# mode : r, w, a, br, bw, ba"
   ]
  },
  {
   "cell_type": "code",
   "execution_count": 55,
   "id": "54831c1c-cb7a-4df7-9b86-5e352c343679",
   "metadata": {},
   "outputs": [],
   "source": [
    "# class : 변수 ,함수를 하나로 묶은 것  : 클래스명은 첫글자가 대문자여야 한다.\n",
    "class Testclass:\n",
    "    b = 1 # 멤버 필드, 멤버 변수\n",
    "    c = 100 \n",
    "    def test(self):\n",
    "        self.b = 100\n",
    "        c = 20 #  지역변수\n",
    "        print(b)\n",
    "        print(c)"
   ]
  },
  {
   "cell_type": "code",
   "execution_count": 59,
   "id": "78756fee-8cd0-4325-ae24-6183a6b88d10",
   "metadata": {},
   "outputs": [
    {
     "name": "stdout",
     "output_type": "stream",
     "text": [
      "1\n",
      "100\n",
      "100\n",
      "20\n",
      "100\n",
      "100\n"
     ]
    }
   ],
   "source": [
    "test1 = Testclass()\n",
    "print(test1.b)\n",
    "print(test1.c)\n",
    "test1.test()\n",
    "print(test1.b)\n",
    "print(test1.c)"
   ]
  },
  {
   "cell_type": "code",
   "execution_count": 60,
   "id": "1c097939-5a5c-4c54-892e-561a50d207ea",
   "metadata": {},
   "outputs": [],
   "source": [
    "i = Testclass() # i 객체(Object)\n",
    "j = Testclass() # j 객체"
   ]
  },
  {
   "cell_type": "code",
   "execution_count": 61,
   "id": "0c50f68e-bdbe-4af7-8d0c-8cabd7b4ed09",
   "metadata": {},
   "outputs": [
    {
     "name": "stdout",
     "output_type": "stream",
     "text": [
      "100\n",
      "1000\n"
     ]
    }
   ],
   "source": [
    "i.b = 100\n",
    "j.b = 1000\n",
    "print(i.b)\n",
    "print(j.b)"
   ]
  },
  {
   "cell_type": "code",
   "execution_count": 63,
   "id": "9dd3bd06-ceaa-47b2-be1d-f0685a396efe",
   "metadata": {},
   "outputs": [],
   "source": [
    "class Testclass:\n",
    "    result = 1 # 멤버필드는 초기값을 거져야 한다.\n",
    "    def f(self, x):\n",
    "        self.result = 3*x + 3"
   ]
  },
  {
   "cell_type": "code",
   "execution_count": 64,
   "id": "fdc8176d-db0b-4db5-8b59-89974d26fbdc",
   "metadata": {},
   "outputs": [
    {
     "name": "stdout",
     "output_type": "stream",
     "text": [
      "33\n"
     ]
    }
   ],
   "source": [
    "i = Testclass() \n",
    "i.f(10)\n",
    "print(i.result)"
   ]
  },
  {
   "cell_type": "code",
   "execution_count": 65,
   "id": "f358d5df-9a3c-4f54-b247-7f81eac90042",
   "metadata": {},
   "outputs": [
    {
     "name": "stdout",
     "output_type": "stream",
     "text": [
      "303\n",
      "33\n"
     ]
    }
   ],
   "source": [
    "j = Testclass() \n",
    "j.f(100)\n",
    "print(j.result)\n",
    "print(i.result)"
   ]
  },
  {
   "cell_type": "code",
   "execution_count": 66,
   "id": "a36433d1-fa27-44fc-86f4-58f4375aa65a",
   "metadata": {},
   "outputs": [],
   "source": [
    "class Testclass:\n",
    "    # 멤버필드를 생략할 수 있다. : \n",
    "    # 멤버필드를 정의한 경우 초기값을 가져야 한다.\n",
    "    def f(self, x):\n",
    "        self.result = 3*x + 3"
   ]
  },
  {
   "cell_type": "code",
   "execution_count": 67,
   "id": "118f1a4f-d17a-43c6-a52e-ae82fafffe19",
   "metadata": {},
   "outputs": [
    {
     "name": "stdout",
     "output_type": "stream",
     "text": [
      "303\n"
     ]
    }
   ],
   "source": [
    "j = Testclass() \n",
    "j.f(100)\n",
    "print(j.result)"
   ]
  },
  {
   "cell_type": "code",
   "execution_count": 68,
   "id": "d0c63d3f-c819-4091-bb44-92f45a0928ea",
   "metadata": {},
   "outputs": [],
   "source": [
    "class Testclass:\n",
    "    def f(self, x, y): \n",
    "        self.first = x # self가 있는 변수는 멤버필드(변수)로 만들어진다.\n",
    "        self.second = y\n",
    "        self.result = self.first + self.second"
   ]
  },
  {
   "cell_type": "code",
   "execution_count": 71,
   "id": "7a63cc27-de6c-40c5-a8db-9925b0afbea8",
   "metadata": {},
   "outputs": [
    {
     "name": "stdout",
     "output_type": "stream",
     "text": [
      "100\n",
      "200\n",
      "300\n"
     ]
    }
   ],
   "source": [
    "i = Testclass()\n",
    "i.f(100, 200)\n",
    "print(i.first)\n",
    "print(i.second)\n",
    "print(i.result)"
   ]
  },
  {
   "cell_type": "code",
   "execution_count": 80,
   "id": "e017f370-ccfe-4b20-b235-dcc06afc1e98",
   "metadata": {},
   "outputs": [],
   "source": [
    "class Calculator:\n",
    "    def setData(self, first, second): # 메서드 : 클래스 안에 있는 함수\n",
    "        self.first = first # 멤버필드를 초기화 시켜주는 매개변수의 이름은 같게 만든다.\n",
    "        self.second = second\n",
    "    def add(self):\n",
    "        self.result = self.first + self.second\n",
    "    def div(self):\n",
    "        self.result = self.first / self.second        "
   ]
  },
  {
   "cell_type": "code",
   "execution_count": 83,
   "id": "cdcef06a-6462-41a2-9e72-676d63f268f5",
   "metadata": {},
   "outputs": [
    {
     "name": "stdout",
     "output_type": "stream",
     "text": [
      "30\n",
      "0.5\n"
     ]
    }
   ],
   "source": [
    "calc = Calculator() # 객체\n",
    "calc.setData(10, 20) # setData()메서드는 멤버필드를 초기화 하기위해서 실행\n",
    "calc.add()\n",
    "print(calc.result)\n",
    "calc.div()\n",
    "print(calc.result)"
   ]
  },
  {
   "cell_type": "code",
   "execution_count": 84,
   "id": "5516a67e-5706-48fc-a84a-def4089abc25",
   "metadata": {},
   "outputs": [],
   "source": [
    "class Calculator:\n",
    "    def __init__(self, first, second):  # initialize : 생성자 : constructor\n",
    "        self.first = first \n",
    "        self.second = second\n",
    "    def add(self):\n",
    "        self.result = self.first + self.second\n",
    "    def div(self):\n",
    "        self.result = self.first / self.second       "
   ]
  },
  {
   "cell_type": "code",
   "execution_count": 86,
   "id": "235b86df-f53f-4fb7-9e94-7c3fbd040fc9",
   "metadata": {},
   "outputs": [
    {
     "name": "stdout",
     "output_type": "stream",
     "text": [
      "30\n",
      "0.5\n"
     ]
    }
   ],
   "source": [
    "calc = Calculator(10, 20) # 객체 __init__는 Calculator()를 의미한다.\n",
    "calc.add()\n",
    "print(calc.result)\n",
    "calc.div()\n",
    "print(calc.result)"
   ]
  },
  {
   "cell_type": "code",
   "execution_count": 87,
   "id": "b86ae7fc-b992-46d6-9db9-25507276e785",
   "metadata": {},
   "outputs": [],
   "source": [
    "class FourCal(Calculator): # 상속 : class를 가지고 오는 것\n",
    "                           #      : Calculator : 부모class, FourCal : 자식 class\n",
    "    '''\n",
    "    def __init__(self, first, second):  # initialize : 생성자 : constructor\n",
    "        self.first = first \n",
    "        self.second = second\n",
    "    def add(self):\n",
    "        self.result = self.first + self.second\n",
    "    def div(self):\n",
    "        self.result = self.first / self.second\n",
    "    '''\n",
    "    def sub(self):\n",
    "        self.result = self.first - self.second\n",
    "    def mul(self):\n",
    "        self.result = self.first * self.second     "
   ]
  },
  {
   "cell_type": "code",
   "execution_count": 91,
   "id": "b17c2ab0-2280-43dc-b58a-2680d0e9a910",
   "metadata": {},
   "outputs": [
    {
     "name": "stdout",
     "output_type": "stream",
     "text": [
      "30\n",
      "-10\n"
     ]
    }
   ],
   "source": [
    "calc = FourCal(10, 20)\n",
    "calc.add()\n",
    "print(calc.result)\n",
    "calc.sub()\n",
    "print(calc.result)"
   ]
  },
  {
   "cell_type": "code",
   "execution_count": 93,
   "id": "aabfab9b-2755-49b6-83ff-8b90a2750370",
   "metadata": {},
   "outputs": [
    {
     "name": "stdout",
     "output_type": "stream",
     "text": [
      "0.0\n"
     ]
    }
   ],
   "source": [
    "calc = FourCal(0, 20) \n",
    "calc.div() # 0 / 20 = 0\n",
    "print(calc.result) # 부정"
   ]
  },
  {
   "cell_type": "code",
   "execution_count": 94,
   "id": "8c979486-2658-431e-b48b-1b0aa3f83501",
   "metadata": {},
   "outputs": [
    {
     "ename": "ZeroDivisionError",
     "evalue": "division by zero",
     "output_type": "error",
     "traceback": [
      "\u001b[31m---------------------------------------------------------------------------\u001b[39m",
      "\u001b[31mZeroDivisionError\u001b[39m                         Traceback (most recent call last)",
      "\u001b[36mCell\u001b[39m\u001b[36m \u001b[39m\u001b[32mIn[94]\u001b[39m\u001b[32m, line 2\u001b[39m\n\u001b[32m      1\u001b[39m calc = FourCal(\u001b[32m10\u001b[39m, \u001b[32m0\u001b[39m)\n\u001b[32m----> \u001b[39m\u001b[32m2\u001b[39m \u001b[43mcalc\u001b[49m\u001b[43m.\u001b[49m\u001b[43mdiv\u001b[49m\u001b[43m(\u001b[49m\u001b[43m)\u001b[49m \u001b[38;5;66;03m# 10 / 0 : 오류 : 불능\u001b[39;00m\n",
      "\u001b[36mCell\u001b[39m\u001b[36m \u001b[39m\u001b[32mIn[84]\u001b[39m\u001b[32m, line 8\u001b[39m, in \u001b[36mCalculator.div\u001b[39m\u001b[34m(self)\u001b[39m\n\u001b[32m      7\u001b[39m \u001b[38;5;28;01mdef\u001b[39;00m\u001b[38;5;250m \u001b[39m\u001b[34mdiv\u001b[39m(\u001b[38;5;28mself\u001b[39m):\n\u001b[32m----> \u001b[39m\u001b[32m8\u001b[39m     \u001b[38;5;28mself\u001b[39m.result = \u001b[38;5;28;43mself\u001b[39;49m\u001b[43m.\u001b[49m\u001b[43mfirst\u001b[49m\u001b[43m \u001b[49m\u001b[43m/\u001b[49m\u001b[43m \u001b[49m\u001b[38;5;28;43mself\u001b[39;49m\u001b[43m.\u001b[49m\u001b[43msecond\u001b[49m\n",
      "\u001b[31mZeroDivisionError\u001b[39m: division by zero"
     ]
    }
   ],
   "source": [
    "calc = FourCal(10, 0)\n",
    "calc.div() # 10 / 0 : 오류 : 불능 : division by zero"
   ]
  },
  {
   "cell_type": "code",
   "execution_count": 95,
   "id": "7e171061-4936-4b85-af47-ae1585839c68",
   "metadata": {},
   "outputs": [],
   "source": [
    "class FourCal(Calculator): # add , div : 10/0 \n",
    "    # 부모로 부터 상속 받은 메서드를 재정의 : override\n",
    "    def div(self): # 부모로 부터 상속받은 메서드\n",
    "        if self.second == 0: # 재정의\n",
    "            self.result = 0\n",
    "        else:\n",
    "            self.result = self.first / self.second\n",
    "    def sub(self):\n",
    "        self.result = self.first - self.second\n",
    "    def mul(self):\n",
    "        self.result = self.first * self.second     "
   ]
  },
  {
   "cell_type": "code",
   "execution_count": 97,
   "id": "026adb60-846f-4e13-9748-036099957bdd",
   "metadata": {},
   "outputs": [
    {
     "name": "stdout",
     "output_type": "stream",
     "text": [
      "0\n"
     ]
    }
   ],
   "source": [
    "calc = FourCal(10, 0)\n",
    "calc.div() # 재정의한 메서드가 실\n",
    "print(calc.result)"
   ]
  },
  {
   "cell_type": "code",
   "execution_count": null,
   "id": "d4d8470c-efea-498e-9d84-09512390801f",
   "metadata": {},
   "outputs": [],
   "source": [
    "### class : 변수와 함수를 같이 묶어서 사용하기 위해서 \n",
    "###         class안에 있는 전역변수 : 멤버필드이고 멤버필드를 메서드에서 사용하기 위해 self\n",
    "###         다른 class에 있는 내용을 가져오는 것 : 상속\n",
    "###         상속된 메서드를 다시 정의 : override"
   ]
  },
  {
   "cell_type": "code",
   "execution_count": 103,
   "id": "13d80aa8-05cf-4904-b706-c253ff43f29c",
   "metadata": {},
   "outputs": [
    {
     "name": "stdout",
     "output_type": "stream",
     "text": [
      "3.141592\n",
      "10\n",
      "12\n",
      "30\n"
     ]
    }
   ],
   "source": [
    "import mod1\n",
    "print(mod1.PI)\n",
    "print(mod1.i)\n",
    "result = mod1.f(3)\n",
    "print(result)\n",
    "calc = mod1.Calculator(10, 20)\n",
    "calc.add()\n",
    "print(calc.result)"
   ]
  },
  {
   "cell_type": "code",
   "execution_count": 105,
   "id": "de74282e-a4f0-40eb-a3ff-5ca3dea4d414",
   "metadata": {},
   "outputs": [
    {
     "name": "stdout",
     "output_type": "stream",
     "text": [
      "4\n"
     ]
    }
   ],
   "source": [
    "import random\n",
    "num = random.randint(0,10)\n",
    "print(num)"
   ]
  },
  {
   "cell_type": "code",
   "execution_count": 107,
   "id": "4728e9ea-463e-45f8-bfee-4842bbd8d3fc",
   "metadata": {},
   "outputs": [
    {
     "name": "stdout",
     "output_type": "stream",
     "text": [
      "3.141592\n",
      "12\n"
     ]
    }
   ],
   "source": [
    "from mod1 import PI, f\n",
    "print(PI)\n",
    "result = f(3)\n",
    "print(result)"
   ]
  },
  {
   "cell_type": "code",
   "execution_count": 108,
   "id": "39a10cc0-489f-4ad3-a9b5-fd149fc1d2fe",
   "metadata": {},
   "outputs": [
    {
     "name": "stdout",
     "output_type": "stream",
     "text": [
      "3.141592\n",
      "12\n"
     ]
    }
   ],
   "source": [
    "from mod1 import *\n",
    "print(PI)\n",
    "result = f(3)\n",
    "print(result)"
   ]
  },
  {
   "cell_type": "code",
   "execution_count": null,
   "id": "a33f552b-1614-4dc4-9887-414001a4de1c",
   "metadata": {},
   "outputs": [],
   "source": [
    "# 스크래핑 : 웹 문서에 있는 코드 모두를 다 가지고 오는 것\n",
    "# 크롤링 : 스크래핑한 코드에서 원하는 내용만 추출해오는 것"
   ]
  },
  {
   "cell_type": "code",
   "execution_count": 111,
   "id": "346723c4-7024-4ed5-8c4c-e37c5e4e8c7d",
   "metadata": {},
   "outputs": [],
   "source": [
    "# 스크래핑\n",
    "import urllib.request\n",
    "url = \"https://wikidocs.net/29\"\n",
    "memory = urllib.request.urlopen(url).read()\n",
    "text = memory.decode(\"utf-8\")\n",
    "print(text)"
   ]
  },
  {
   "cell_type": "code",
   "execution_count": null,
   "id": "ca5414ca-6621-41b7-9d73-7feee1b384fe",
   "metadata": {},
   "outputs": [],
   "source": [
    "import urllib.request\n",
    "url = \"https://search.naver.com/search.naver?query=python\"\n",
    "memory = urllib.request.urlopen(url).read()\n",
    "text = memory.decode(\"utf-8\")\n",
    "print(text)\n"
   ]
  },
  {
   "cell_type": "code",
   "execution_count": null,
   "id": "bb339295-0dc0-44f3-8025-ce6f430b59b1",
   "metadata": {},
   "outputs": [],
   "source": [
    "# http://www.kma.go.kr/weather/forecast/mid-term-rss3.jsp?stnId=108\n",
    "# <---------------------------------------------------------------> : url\n",
    "#       <------------> : 도메인\n",
    "#                     <----------------------------------> : uri\n",
    "#                                                         <--------> Query String\n",
    "#<---> protocol "
   ]
  },
  {
   "cell_type": "code",
   "execution_count": null,
   "id": "db05e568-9b78-4d17-8760-1b54e2c96b3c",
   "metadata": {},
   "outputs": [],
   "source": [
    "import urllib.request\n",
    "import urllib.parse\n",
    "uri = \"https://search.naver.com/search.naver\"\n",
    "qureryText = input(\"검색단어를 입력하세요 : \")\n",
    "param = {\"query\" : qureryText}\n",
    "queryString = urllib.parse.urlencode(param) # {\"query\" : qureryText} ==> query=python\n",
    "url = uri + \"?\" + queryString\n",
    "# \"https://search.naver.com/search.naver?query=python\"\n",
    "memory = urllib.request.urlopen(url).read()\n",
    "text = memory.decode(\"utf-8\")\n",
    "print(text)"
   ]
  },
  {
   "cell_type": "code",
   "execution_count": null,
   "id": "095e8661-c5c7-446c-a0e2-f2f07eb7dff2",
   "metadata": {},
   "outputs": [],
   "source": [
    "import urllib.request\n",
    "import urllib.parse\n",
    "uri = \"https://www.google.com/search\"\n",
    "qureryText = input(\"검색단어를 입력하세요 : \")\n",
    "param = {\"q\" : qureryText}\n",
    "queryString = urllib.parse.urlencode(param) # {\"query\" : qureryText} ==> query=python\n",
    "url = uri + \"?\" + queryString\n",
    "# \"https://search.naver.com/search.naver?query=python\"\n",
    "memory = urllib.request.urlopen(url).read()\n",
    "text = memory.decode(\"utf-8\")\n",
    "print(text)"
   ]
  },
  {
   "cell_type": "code",
   "execution_count": 130,
   "id": "ee61f787-2fbd-47ad-8ecd-b00bb26d1f06",
   "metadata": {},
   "outputs": [
    {
     "name": "stdout",
     "output_type": "stream",
     "text": [
      "\n",
      "<html><body>\n",
      "<h1>스크레이핑이란?</h1>\n",
      "<p>웹 페이지를 분석하는 것</p>\n",
      "<p>원하는 부분을 추출하는 것</p>\n",
      "</body></html>\n",
      "\n",
      "<h1>스크레이핑이란?</h1>\n",
      "웹 페이지를 분석하는 것\n",
      "원하는 부분을 추출하는 것\n"
     ]
    }
   ],
   "source": [
    "# 스크래핑한 데이터\n",
    "html = \"\"\"  \n",
    "<html><body>\n",
    "  <h1>스크레이핑이란?</h1>\n",
    "  <p>웹 페이지를 분석하는 것</p>\n",
    "  <p>원하는 부분을 추출하는 것</p>\n",
    "</body></html>\n",
    "\"\"\"\n",
    "## 크롤링\n",
    "from bs4 import BeautifulSoup\n",
    "soup = BeautifulSoup(html,  \"html.parser\")\n",
    "print(soup)\n",
    "h1 = soup.body.h1\n",
    "print(h1)\n",
    "p = soup.body.p.string\n",
    "print(p)\n",
    "p2 = soup.body.p.next_sibling.next_sibling\n",
    "print(p2.string)"
   ]
  },
  {
   "cell_type": "code",
   "execution_count": 142,
   "id": "aaed5fb2-e4ec-4cac-96ee-0bdecee856da",
   "metadata": {},
   "outputs": [
    {
     "name": "stdout",
     "output_type": "stream",
     "text": [
      "<a href=\"a.html\">원하는 부분을 추출하는 것</a>\n",
      "원하는 부분을 추출하는 것\n",
      "{'href': 'a.html'}\n",
      "a.html\n",
      "<h1 id=\"title\">스크레이핑이란?</h1>\n",
      "웹 페이지를 분석하는 것\n"
     ]
    }
   ],
   "source": [
    "text = \"\"\"  \n",
    "<html><body>\n",
    "  <h1 id='title'>스크레이핑이란?</h1>\n",
    "  <p id='body'>웹 페이지를 분석하는 것</p>\n",
    "  <p><a href='a.html'>원하는 부분을 추출하는 것</a></p>\n",
    "  \n",
    "</body></html>\n",
    "\"\"\"\n",
    "from bs4 import BeautifulSoup\n",
    "soup = BeautifulSoup(text, \"html.parser\")\n",
    "a1 = soup.body.a\n",
    "print(a1)\n",
    "print(a1.string)\n",
    "# 태그 안에 있는 속성을 가진 것을 가져옴\n",
    "attrs =  soup.body.a.attrs\n",
    "print(attrs)  # {'href': 'a.html'} #딕셔너리\n",
    "print(attrs['href'])\n",
    "title = soup.find(id=\"title\")\n",
    "print(title)\n",
    "body = soup.find(id=\"body\")\n",
    "print(body.string)"
   ]
  },
  {
   "cell_type": "code",
   "execution_count": 148,
   "id": "a31a6d81-c71b-43a8-b8b8-43e50227fce8",
   "metadata": {},
   "outputs": [
    {
     "name": "stdout",
     "output_type": "stream",
     "text": [
      "1,398.50\n",
      "962.09\n",
      "1,573.03\n",
      "193.16\n",
      "145.0000\n",
      "1.1268\n",
      "1.3305\n",
      "100.1600\n",
      "61.02\n",
      "1637.5\n",
      "3344.0\n",
      "150087.51\n"
     ]
    }
   ],
   "source": [
    "import urllib.request as req\n",
    "from bs4 import BeautifulSoup\n",
    "# 스크래핑\n",
    "url = \"https://finance.naver.com/marketindex/\"\n",
    "memory = req.urlopen(url) \n",
    "# 크롤링\n",
    "soup = BeautifulSoup(memory, \"html.parser\")\n",
    "price = soup.select_one(\"#exchangeList > li.on > a.head.usd > div > span.value\");\n",
    "#print(price)\n",
    "#print(price.string)\n",
    "#exchangeList > li.on > a.head.usd > div > span.value\n",
    "#exchangeList > li.on > a.head.jpy > div > span.value\n",
    "prices = soup.select('div > span.value') #리스트\n",
    "#print(prices)\n",
    "for pri in prices:\n",
    "    print(pri.string)"
   ]
  },
  {
   "cell_type": "code",
   "execution_count": 167,
   "id": "7798a2b7-76da-4d57-bafa-c91d9f32b3a8",
   "metadata": {
    "scrolled": true
   },
   "outputs": [
    {
     "name": "stdout",
     "output_type": "stream",
     "text": [
      "<h1>위키북스 도서1111111</h1>\n",
      "<h1>위키북스 도서</h1>\n",
      "<h1>위키북스 도서1111111</h1>\n",
      "<div>\n",
      "<h1>이숭무</h1>\n",
      "</div>\n",
      "<div>\n",
      "<h1>이숭무</h1>\n",
      "</div>\n",
      "이숭무\n",
      "<div id=\"meigen\">\n",
      "<h1>위키북스 도서</h1>\n",
      "<ul class=\"items\">\n",
      "<li>유니티 게임 이펙트 입문</li>\n",
      "<li>스위프트로 시작하는 아이폰 앱 개발 교과서</li>\n",
      "<li>모던 웹사이트 디자인의 정석</li>\n",
      "</ul>\n",
      "</div>\n",
      "<div id=\"meigen\">\n",
      "<h1>위키북스 도서</h1>\n",
      "<ul class=\"items\">\n",
      "<li>유니티 게임 이펙트 입문</li>\n",
      "<li>스위프트로 시작하는 아이폰 앱 개발 교과서</li>\n",
      "<li>모던 웹사이트 디자인의 정석</li>\n",
      "</ul>\n",
      "</div>\n",
      "<ul class=\"items\">\n",
      "<li>유니티 게임 이펙트 입문</li>\n",
      "<li>스위프트로 시작하는 아이폰 앱 개발 교과서</li>\n",
      "<li>모던 웹사이트 디자인의 정석</li>\n",
      "</ul>\n",
      "<li>유니티 게임 이펙트 입문</li>\n",
      "<li>유니티 게임 이펙트 입문</li>\n",
      "<ul class=\"items\">\n",
      "<li>유니티 게임 이펙트 입문</li>\n",
      "<li>스위프트로 시작하는 아이폰 앱 개발 교과서</li>\n",
      "<li>모던 웹사이트 디자인의 정석</li>\n",
      "</ul>\n",
      "<li>유니티 게임 이펙트 입문</li>\n",
      "[<li>유니티 게임 이펙트 입문</li>, <li>스위프트로 시작하는 아이폰 앱 개발 교과서</li>, <li>모던 웹사이트 디자인의 정석</li>]\n",
      "유니티 게임 이펙트 입문\n",
      "스위프트로 시작하는 아이폰 앱 개발 교과서\n",
      "모던 웹사이트 디자인의 정석\n",
      "<li>유니티 게임 이펙트 입문</li>\n"
     ]
    }
   ],
   "source": [
    "# 스크래핑\n",
    "text = \"\"\"\n",
    "<html><body>\n",
    "<h1>위키북스 도서1111111</h1>\n",
    "<div>\n",
    "    <h1>이숭무</h1>\n",
    "</div>\n",
    "<div id=\"meigen\">\n",
    "  <h1>위키북스 도서</h1>\n",
    "  <ul class=\"items\">\n",
    "    <li>유니티 게임 이펙트 입문</li>\n",
    "    <li>스위프트로 시작하는 아이폰 앱 개발 교과서</li>\n",
    "    <li>모던 웹사이트 디자인의 정석</li>\n",
    "  </ul>\n",
    "</div>\n",
    "</body></html>\n",
    "\"\"\"\n",
    "# 크롤링\n",
    "from bs4 import BeautifulSoup\n",
    "soup = BeautifulSoup(text, \"html.parser\")\n",
    "h1= soup.body.h1\n",
    "print(h1)\n",
    "h2 = soup.find(id=\"meigen\").h1\n",
    "print(h2)\n",
    "h3 = soup.find(\"h1\")\n",
    "print(h3)\n",
    "div = soup.body.div\n",
    "print(div)\n",
    "div = soup.find(\"div\")\n",
    "print(div)\n",
    "h1 = div.h1\n",
    "print(h1.string)\n",
    "\n",
    "# selector를 이용\n",
    "div  = soup.find(id=\"meigen\")\n",
    "print(div)\n",
    "div = soup.select_one(\"div#meigen\")\n",
    "print(div)\n",
    "ul = soup.select_one(\"div#meigen ul\")\n",
    "print(ul)\n",
    "li = soup.select_one(\"div#meigen > ul > li\") # 자식\n",
    "print(li)\n",
    "li = soup.select_one(\"div#meigen li\") # 하위\n",
    "print(li)\n",
    "ul = soup.select_one(\"ul.items\")\n",
    "print(ul)\n",
    "li = soup.select_one(\"ul.items > li\")\n",
    "print(li)\n",
    "lis = soup.select(\"ul.items > li\")\n",
    "print(lis)\n",
    "for li in lis:\n",
    "    print(li.string)\n",
    "\n",
    "li = soup.select_one(\"div#meigen > ul.items > li\")\n",
    "print(li)"
   ]
  },
  {
   "cell_type": "code",
   "execution_count": null,
   "id": "48a09e51-5f33-4573-b7f6-01015d3af136",
   "metadata": {},
   "outputs": [],
   "source": [
    "# 스크래핑\n",
    "import requests \n",
    "# 크롤링\n",
    "from bs4 import BeautifulSoup\n",
    "# 데이터분석\n",
    "import pandas\n",
    "# 시각화\n",
    "import matplotlib as mpl \n",
    "import matplotlib.pyplot as plt\n",
    "# 스크래핑\n",
    "url = \"https://www.weather.go.kr/w/observation/land/city-obs.do\"\n",
    "source  = requests.get(url) \n",
    "\n",
    "# 크롤링\n",
    "soup = BeautifulSoup(source.content, 'html.parser')\n",
    "table = soup.find(\"table\",{\"class\":\"table-col\"})\n",
    "#print(table)\n",
    "data =[]\n",
    "for tr in table.find_all('tr'):\n",
    "    ths = list(tr.find_all('th'))\n",
    "    tds = list(tr.find_all('td'))\n",
    "    for th in ths:\n",
    "        if th.find('a'):\n",
    "            point = th.find('a').string\n",
    "            temp = tds[4].string\n",
    "            humidity = tds[9].string\n",
    "            data.append([point, temp, humidity])\n",
    "# 데이터를 분석\n",
    "# 데이터 저장\n",
    "with open(\"weather.csv\" , \"w\" , encoding=\"utf-8\") as f:\n",
    "    f.write('지역,온도,습도\\n')\n",
    "    for l in data:\n",
    "        f.write(f\"{l[0]},{l[1]},{l[2]}\\n\")\n",
    "#테이터 처리\n",
    "df = pandas.read_csv(\"weather.csv\",  encoding='utf-8', index_col='지역')\n",
    "#print(df)\n",
    "city_df = df.loc[['서울','인천','대전','대구','광주','부산','울산']]\n",
    "#print(city_df)\n",
    "#시각화\n",
    "font_name = mpl.font_manager.FontProperties(fname=\"C:\\Windows\\Fonts\\malgun.ttf\").get_name()\n",
    "mpl.rc('font', family=font_name)\n",
    "ax = city_df.plot(kind='bar', title='weather', figsize=(12,4))\n",
    "plt.show()"
   ]
  },
  {
   "cell_type": "code",
   "execution_count": null,
   "id": "d21ceb8a-16eb-4934-b222-3d3ff3733c9f",
   "metadata": {},
   "outputs": [],
   "source": []
  }
 ],
 "metadata": {
  "kernelspec": {
   "display_name": "Python 3 (ipykernel)",
   "language": "python",
   "name": "python3"
  },
  "language_info": {
   "codemirror_mode": {
    "name": "ipython",
    "version": 3
   },
   "file_extension": ".py",
   "mimetype": "text/x-python",
   "name": "python",
   "nbconvert_exporter": "python",
   "pygments_lexer": "ipython3",
   "version": "3.13.3"
  }
 },
 "nbformat": 4,
 "nbformat_minor": 5
}
