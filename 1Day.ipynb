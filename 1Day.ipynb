{
 "cells": [
  {
   "cell_type": "code",
   "execution_count": 2,
   "id": "27217080-7275-4cd6-b57b-722799dbbf49",
   "metadata": {},
   "outputs": [
    {
     "name": "stdout",
     "output_type": "stream",
     "text": [
      "15\n"
     ]
    }
   ],
   "source": [
    "print(3 * 5)"
   ]
  },
  {
   "cell_type": "code",
   "execution_count": 5,
   "id": "5e648bbf-a176-4c52-8eb0-52b4c58696ee",
   "metadata": {},
   "outputs": [
    {
     "name": "stdout",
     "output_type": "stream",
     "text": [
      "8\n",
      "15\n"
     ]
    }
   ],
   "source": [
    "# 파이썬은 행단위 언어이다.\n",
    "print(3 + 5)\n",
    "print(3 * 5)"
   ]
  },
  {
   "cell_type": "code",
   "execution_count": 8,
   "id": "a2c51caa-7f0e-409a-9ccf-7ca20105b6c3",
   "metadata": {},
   "outputs": [
    {
     "name": "stdout",
     "output_type": "stream",
     "text": [
      "8\n",
      "15\n"
     ]
    }
   ],
   "source": [
    "print(3 + 5); print(3*5)"
   ]
  },
  {
   "cell_type": "code",
   "execution_count": 14,
   "id": "d80738a9-84a8-4f15-8fd9-82cfa33c061a",
   "metadata": {},
   "outputs": [
    {
     "name": "stdout",
     "output_type": "stream",
     "text": [
      "10\n",
      "10\n",
      "20\n",
      "10.5\n"
     ]
    }
   ],
   "source": [
    "# 리터널 : 자연수 : \n",
    "#                    정수:10,20,...\n",
    "#                    실수:10.5, 2.5,...\n",
    "#        :자연어 :  한국어, 영어,...\n",
    "print(10) \n",
    "a = 10 # a 변수 :정수리터널 변수 \n",
    "print(a)\n",
    "a = 20\n",
    "print(a)\n",
    "a = 10.5 # 실수 리터널 변수\n",
    "print(a)"
   ]
  },
  {
   "cell_type": "code",
   "execution_count": 20,
   "id": "13affc7f-f3c4-4141-b5d2-ebdb146539ff",
   "metadata": {},
   "outputs": [
    {
     "name": "stdout",
     "output_type": "stream",
     "text": [
      "30\n",
      "30\n",
      "-10\n",
      "200\n",
      "0.5\n",
      "3\n",
      "1\n",
      "1000\n"
     ]
    }
   ],
   "source": [
    "print( 10 + 20)\n",
    "a = 10\n",
    "b = 20\n",
    "print( a + b)\n",
    "print(a - b )\n",
    "print( a * b)\n",
    "print(a / b)\n",
    "# 자연수 리터널을 이용할 수 있는 연산자는 +, -, /, *\n",
    "a = 10\n",
    "b = 3\n",
    "print( a // b ) # 몫 연산자\n",
    "print( a % b ) # 나머지 연산자\n",
    "# 젭곱승\n",
    "print( 10 ** 3 )\n",
    "print( a ** b ) \n",
    "# 연산자를 이용해서 연산\n",
    "# 숫자연산자 : +, -, *, / , // , %, **"
   ]
  },
  {
   "cell_type": "code",
   "execution_count": 23,
   "id": "65b15fb4-89c7-4f38-9350-1fba9cc4e88f",
   "metadata": {},
   "outputs": [
    {
     "name": "stdout",
     "output_type": "stream",
     "text": [
      "10\n",
      "100\n",
      "10\n"
     ]
    }
   ],
   "source": [
    "# 변수 : \n",
    "j = 10 # 초기값을 가져야 한다. \n",
    "print(j)\n",
    "이숭무 = 100 # 왼쪽 문자는 변수이고 오른쪽은 리터널\n",
    "print(이숭무)\n",
    "이숭무 = j # 왼쪽 문자는 변수이고 오른쪽은 리터널\n",
    "# 변수는 오직 하나의 값을 갖는다.\n",
    "print(이숭무)\n",
    "# 순자적 프로그램"
   ]
  },
  {
   "cell_type": "code",
   "execution_count": 34,
   "id": "2fb9ee77-a785-481e-afdf-abb7c3af66a4",
   "metadata": {},
   "outputs": [
    {
     "name": "stdout",
     "output_type": "stream",
     "text": [
      "10\n",
      "apple\n",
      "soldesk\n",
      "20\n",
      "<class 'str'>\n",
      "<class 'int'>\n",
      "1000\n"
     ]
    }
   ],
   "source": [
    "apple =  10\n",
    "이숭무 = \"apple\" # \"apple\" : 문자리터널 : 자연어\n",
    "print(apple)\n",
    "print( 이숭무)\n",
    "이숭무 = apple # 정수리터널 변수 \n",
    "# 문자열 리터널 : \"\", ''\n",
    "이숭무 = 'soldesk'\n",
    "print(이숭무)\n",
    "i = \"10\" # 문자열 리터널\n",
    "print(10 + 10)\n",
    "#print(10 + \"10\") # \"10\" : 10이라는 문자\n",
    "j = 10\n",
    "print(type(i)) # <class 'str'> str : string\n",
    "print(type(j)) # <class 'int'> int : integer\n",
    "# 2 = 10\n",
    "#0l2 = 100\n",
    "#print(0l2)\n",
    "이1 = 1000\n",
    "print(이1)"
   ]
  },
  {
   "cell_type": "code",
   "execution_count": 41,
   "id": "28dcf8c9-c555-4851-a4e7-eff2c21d528f",
   "metadata": {},
   "outputs": [
    {
     "name": "stdout",
     "output_type": "stream",
     "text": [
      "python is fun\n",
      "python is fun\n",
      "python is fun\n",
      "30\n",
      "30\n",
      "pythonpythonpython\n",
      "pythonpythonpython\n",
      "pythonis fun\n",
      "python is fun\n",
      "============================================================\n",
      "주제\n",
      "============================================================\n"
     ]
    }
   ],
   "source": [
    "head = 'python'\n",
    "tail = ' is fun'\n",
    "print('python is fun')\n",
    "print(head + tail) \n",
    "print('python' + ' is fun') # 연결연산자  : 문자열\n",
    "print( 10 + 20) # 덧셈 연산자\n",
    "print( 10 * 3) # 곱셈연산자\n",
    "print( 'python'  * 3) # 반복 연산자\n",
    "print( head  * 3) # head : 문자열 리터널 변수\n",
    "# 숫자연산자  : +, -, * , / , //, **, %\n",
    "# 문자열 연산자 : + :연결연산자, * : 반복연산자\n",
    "head = 'python'\n",
    "tail = 'is fun'\n",
    "print(head+tail)  #pythonis fun\n",
    "print(head + ' ' +tail) # ' ' : 공백문자\n",
    "print(\"==\" * 30)\n",
    "print(\"주제\")\n",
    "print(\"==\" * 30)"
   ]
  },
  {
   "cell_type": "code",
   "execution_count": 44,
   "id": "ed4e337b-9562-4016-bfca-ee95ed6132ef",
   "metadata": {},
   "outputs": [
    {
     "name": "stdout",
     "output_type": "stream",
     "text": [
      "20\n",
      "1010\n"
     ]
    },
    {
     "ename": "TypeError",
     "evalue": "'int' object is not callable",
     "output_type": "error",
     "traceback": [
      "\u001b[31m---------------------------------------------------------------------------\u001b[39m",
      "\u001b[31mTypeError\u001b[39m                                 Traceback (most recent call last)",
      "\u001b[36mCell\u001b[39m\u001b[36m \u001b[39m\u001b[32mIn[44]\u001b[39m\u001b[32m, line 4\u001b[39m\n\u001b[32m      2\u001b[39m \u001b[38;5;28mprint\u001b[39m(\u001b[38;5;28mstr\u001b[39m(\u001b[32m10\u001b[39m) + \u001b[33m\"\u001b[39m\u001b[33m10\u001b[39m\u001b[33m\"\u001b[39m)\n\u001b[32m      3\u001b[39m \u001b[38;5;28mstr\u001b[39m = \u001b[32m10\u001b[39m\n\u001b[32m----> \u001b[39m\u001b[32m4\u001b[39m \u001b[38;5;28mprint\u001b[39m(\u001b[38;5;28;43mstr\u001b[39;49m\u001b[43m(\u001b[49m\u001b[32;43m10\u001b[39;49m\u001b[43m)\u001b[49m + \u001b[33m\"\u001b[39m\u001b[33m10\u001b[39m\u001b[33m\"\u001b[39m)\n",
      "\u001b[31mTypeError\u001b[39m: 'int' object is not callable"
     ]
    }
   ],
   "source": [
    "print(10 + \"10\")\n",
    "#print(10 + str1) #TypeError: unsupported operand type(s) for +: 'int' and 'str'\n",
    "print(10 + int(\"10\"))\n",
    "print(str(10) + \"10\")\n",
    "str = 10\n",
    "print(str(10) + \"10\")\n",
    "# 같은 이름의 함수명이나 변수를 사용할 수 없다."
   ]
  },
  {
   "cell_type": "code",
   "execution_count": 45,
   "id": "b787418b-6124-48b9-8dca-2fdea6e03e5c",
   "metadata": {},
   "outputs": [],
   "source": [
    "del str"
   ]
  },
  {
   "cell_type": "code",
   "execution_count": 47,
   "id": "7641ec2c-4bf4-4fb3-87f6-4acb823d7d59",
   "metadata": {},
   "outputs": [
    {
     "name": "stdout",
     "output_type": "stream",
     "text": [
      "1010\n",
      "Life is too short You need Python\n"
     ]
    }
   ],
   "source": [
    "print(str(10) + \"10\") "
   ]
  },
  {
   "cell_type": "code",
   "execution_count": 48,
   "id": "b76180c6-16b0-474d-acc5-0d9586aa0811",
   "metadata": {},
   "outputs": [
    {
     "name": "stdout",
     "output_type": "stream",
     "text": [
      "Life is too short You need Python\n",
      "Life is too short You need Python\n"
     ]
    }
   ],
   "source": [
    "# 문자열 리터널 : \"\", ''\n",
    "str1 = \"Life is too short You need Python\"\n",
    "print(str1)\n",
    "str1 = 'Life is too short You need Python'\n",
    "print(str1)\n",
    "# ' : 강조부호\n",
    "str1 = \"Life's too short You need Python\"\n",
    "print(str1)\n",
    "# \"\" : 인용부호\n",
    "str1 = 'Life is \"too short\" You need Python'\n",
    "print(str1)"
   ]
  },
  {
   "cell_type": "code",
   "execution_count": 55,
   "id": "bdec5ea6-d3bb-435e-a45a-123912402764",
   "metadata": {},
   "outputs": [
    {
     "name": "stdout",
     "output_type": "stream",
     "text": [
      "Life's too short You need Python\n",
      "Life is \"too short\" You need Python\n",
      "Life is too short \n",
      " You need Python\n",
      "Life is too short \t You need Python\n"
     ]
    }
   ],
   "source": [
    "# \\ : escape문자\n",
    "str1 = 'Life\\'s too short You need Python'\n",
    "print(str1)\n",
    "str1 = \"Life is \\\"too short\\\" You need Python\"\n",
    "print(str1)\n",
    "str1 = \"Life is too short \\n You need Python\" # \\n: 행바꿈문자\n",
    "print(str1)\n",
    "str1 = \"Life is too short \\t You need Python\" # \\t:tab문자\n",
    "print(str1)"
   ]
  },
  {
   "cell_type": "code",
   "execution_count": 57,
   "id": "ae769282-0a53-4aee-971a-bad02dc9aeb7",
   "metadata": {},
   "outputs": [
    {
     "name": "stdout",
     "output_type": "stream",
     "text": [
      "Life is too short \n",
      "You need Python\n",
      "Life is too short \n",
      "You need Python\n"
     ]
    }
   ],
   "source": [
    "str1 = '''Life is too short \n",
    "You need Python''' \n",
    "print(str1)\n",
    "str1 = \"\"\"Life is too short \n",
    "You need Python\"\"\" \n",
    "print(str1)\n",
    "#문자열 리터널을 표현하는 방법 : \" \",' ' \n",
    "#                             ''' ''' , \"\"\" \"\"\" : 개행이 가능"
   ]
  },
  {
   "cell_type": "code",
   "execution_count": 59,
   "id": "11166790-7d4d-4f50-bb23-65064206a1b8",
   "metadata": {},
   "outputs": [
    {
     "name": "stdout",
     "output_type": "stream",
     "text": [
      "Life is too short You need Python\n",
      "33\n",
      "3\n"
     ]
    }
   ],
   "source": [
    "str1 = 'Life is too short You need Python'\n",
    "print(str1)\n",
    "# 문자열에 문자의 갯수 : len() : length\n",
    "print(len(str1)) \n",
    "str2 = \"이숭무\"\n",
    "print(len(str2))"
   ]
  },
  {
   "cell_type": "code",
   "execution_count": 67,
   "id": "7cb0f2bc-88e3-419b-8606-97d0015ff5b6",
   "metadata": {},
   "outputs": [
    {
     "name": "stdout",
     "output_type": "stream",
     "text": [
      "Life is too short You need Python\n",
      "t\n",
      "u\n",
      "n\n",
      "33\n",
      "n\n",
      "n\n",
      "u\n",
      "u\n",
      "n\n"
     ]
    }
   ],
   "source": [
    "# indexing : index를 이용해서 원하는 문자를 가져오는 것\n",
    "# index는 문자가 가지고 있는 고유의 번호\n",
    "str1=\"Life is too short You need Python\"\n",
    "#               1         2         3\n",
    "#     012345678901234567890123456789012\n",
    "print(str1)\n",
    "print(str1[8])\n",
    "print(str1[20])\n",
    "print(str1[32])\n",
    "print(len(str1)) # 33\n",
    "print(str1[33 - 1])\n",
    "print(str1[len(str1) - 1])\n",
    "print(str1[20])\n",
    "print(\"Life is too short You need Python\"[20])\n",
    "print(\"Life is too short You need Python\"[len(str1) - 1])"
   ]
  },
  {
   "cell_type": "code",
   "execution_count": 73,
   "id": "69bb8845-7f96-4ae2-9fa4-121d8776a0d1",
   "metadata": {},
   "outputs": [
    {
     "name": "stdout",
     "output_type": "stream",
     "text": [
      "L\n",
      "L\n",
      "L\n",
      "n\n",
      "n\n",
      "Y\n",
      "Y\n",
      "33\n"
     ]
    }
   ],
   "source": [
    "str1=\"Life is too short You need Python\"\n",
    "#               1         2         3\n",
    "#     012345678901234567890123456789012\n",
    "#     321098765432109876543210987654321-\n",
    "#        3         2         1\n",
    "print(str1[0]) # L\n",
    "print(str1[-33])\n",
    "print(str1[-len(str1)])\n",
    "print(str1[32]) #n\n",
    "print(str1[-1])\n",
    "print(str1[18])\n",
    "print(str1[-15])\n",
    "print(len(str1)) # 33 정수 리터널"
   ]
  },
  {
   "cell_type": "code",
   "execution_count": 76,
   "id": "e58e1a5b-1338-4047-91a0-459aaa3b720f",
   "metadata": {},
   "outputs": [
    {
     "name": "stdout",
     "output_type": "stream",
     "text": [
      "L\n",
      "i\n",
      "f\n",
      "e\n",
      "Life\n"
     ]
    }
   ],
   "source": [
    "str1 = \"Life is too short\"\n",
    "#Life\n",
    "print(str1[0])\n",
    "print(str1[1])\n",
    "print(str1[2])\n",
    "print(str1[3])\n",
    "print(str1[0]+str1[1]+str1[2]+str1[3])"
   ]
  },
  {
   "cell_type": "code",
   "execution_count": 89,
   "id": "a0667634-8955-4a95-a1aa-6cd47d8f7609",
   "metadata": {},
   "outputs": [
    {
     "name": "stdout",
     "output_type": "stream",
     "text": [
      "Life\n",
      "Life\n",
      "too\n",
      "short\n"
     ]
    },
    {
     "name": "stdin",
     "output_type": "stream",
     "text": [
      "index를 입력하시오:  3\n",
      "글자수를 입력하시오:  6\n"
     ]
    },
    {
     "name": "stdout",
     "output_type": "stream",
     "text": [
      "e is t\n"
     ]
    }
   ],
   "source": [
    "#slicing \n",
    "str1 = \"Life is too short\"\n",
    "#       01234567890123456\n",
    "#                 1\n",
    "print(str1[0:4]) # start = 1, end =4 ,step = 1\n",
    "print(str1[0:0+4])\n",
    "print(str1[8: 8 + 3])\n",
    "print(str1[12:12+5])\n",
    "cnt = int(input(\"index를 입력하시오: \")) # 3\n",
    "wordCount = int(input(\"글자수를 입력하시오: \")) # 6\n",
    "print(str1[cnt:cnt+wordCount])"
   ]
  },
  {
   "cell_type": "code",
   "execution_count": 95,
   "id": "35607e4c-6164-4168-8317-ff101a250e9c",
   "metadata": {},
   "outputs": [
    {
     "name": "stdout",
     "output_type": "stream",
     "text": [
      "too\n",
      "too\n",
      "too\n",
      "short\n",
      "short\n",
      "17\n",
      "short\n",
      "short\n",
      "Life\n"
     ]
    }
   ],
   "source": [
    "str1 = \"Life is too short\"\n",
    "#       01234567890123456\n",
    "#                 1\n",
    "#       76543210987654321 -\n",
    "#              1\n",
    "print(str1[8:8 + 3])\n",
    "print(str1[-9:8 + 3])\n",
    "print(str1[8:-9 + 3])\n",
    "print(str1[12:12+5])\n",
    "print(str1[12 : 17])\n",
    "print(len(str1)) # 17\n",
    "print(str1[12 :len(str1)])\n",
    "print(str1[12:]) # 마지막index는 생략가능\n",
    "print(str1[:0+4]) # 첫번째 index는 생략이 가능하다.\n",
    "print(str1[-17:0+4])\n",
    "print(str1[-17:-17+4])\n",
    "print(str1[-17:-13])"
   ]
  },
  {
   "cell_type": "code",
   "execution_count": 99,
   "id": "ad55f8ae-5938-41bd-bedc-26fea9b1b65c",
   "metadata": {},
   "outputs": [
    {
     "name": "stdout",
     "output_type": "stream",
     "text": [
      "2001년\n",
      "03월\n",
      "31일\n",
      "이름은 Rainy\n"
     ]
    }
   ],
   "source": [
    "# 날짜(년,월,일)와 이름을 분리하여 출력\n",
    "a = \"20010331Rainy\"\n",
    "print(a[:4] + '년')\n",
    "print(a[4:4+2] + \"월\")\n",
    "print(a[6:6 + 2] + \"일\")\n",
    "print(\"이름은 \" + a[8:])"
   ]
  },
  {
   "cell_type": "code",
   "execution_count": 110,
   "id": "e2d7d8a8-84b8-4b98-b7ef-d22ae1a50279",
   "metadata": {},
   "outputs": [
    {
     "name": "stdout",
     "output_type": "stream",
     "text": [
      "Life\n",
      "Lf\n",
      "Lf stosot\n",
      "trohs oot si efiL\n",
      "fe is too sh\n",
      "hs oot si ef\n",
      "h o ie\n",
      "ho  \n",
      "fit \n"
     ]
    }
   ],
   "source": [
    "str1 = \"Life is too short\"\n",
    "#       01234567890123456\n",
    "#                 1\n",
    "print(str1[0:4])\n",
    "print(str1[0:4:2])\n",
    "print(str1[::2])\n",
    "#reverse\n",
    "print(str1[::-1])\n",
    "# 2번부터 13번까지 출력\n",
    "print(str1[2:14])  # fe is too sh\n",
    "#reverse\n",
    "print(str1[13:1:-1]) # hs oot si ef\n",
    "\n",
    "# 13번부터 2번까지 하나씩 건너띄어서 출력 \n",
    "print(str1[13:1:-2])\n",
    "# 13번부터 2번까지 둘씩 건너띄어서 출력 \n",
    "print(str1[13:1:-3])\n",
    "\n",
    "# 2번부터 13번까지 둘씩 건너띄어서 출력 \n",
    "print(str1[2:14:3])"
   ]
  },
  {
   "cell_type": "code",
   "execution_count": 113,
   "id": "a095ba3e-1a47-47c2-9289-d0a05800f92e",
   "metadata": {},
   "outputs": [
    {
     "name": "stdout",
     "output_type": "stream",
     "text": [
      "i\n",
      "python\n"
     ]
    }
   ],
   "source": [
    "str1 = \"pithon\"\n",
    "#       012345\n",
    "print(str1[1])\n",
    "#str1[1] = 'y' # 문자열은 일부 문자만 변경하지 못함\n",
    "print(str1[0] + 'y' + str1[2:])"
   ]
  },
  {
   "cell_type": "code",
   "execution_count": 117,
   "id": "3463c7ab-2f78-453f-aa25-ba356b8cad2f",
   "metadata": {},
   "outputs": [
    {
     "name": "stdout",
     "output_type": "stream",
     "text": [
      "이숭무\n",
      "이숭무의 나이는 35살입니다.\n",
      "이숭무의 나이는 35살입니다.\n",
      "이숭무의 나이는 35입니다.\n",
      "이숭무의 나이는 35입니다.\n"
     ]
    }
   ],
   "source": [
    "#indexing, slicing\n",
    "#포매팅\n",
    "#포맷문자를 이용한 포맷팅\n",
    "#포맷문자 : %s:string , %d:decimal , %f :float , %c:charecter\n",
    "print(\"이숭무\")\n",
    "name = \"이숭무\"\n",
    "age = 35\n",
    "print(\"이숭무의 나이는 35살입니다.\")\n",
    "print(\"%s의 나이는 %d살입니다.\" % (name, age))\n",
    "print(\"이숭무의 나이는 %d입니다.\" % age)\n",
    "print(\"이숭무의 나이는 %d입니다.\" % (age))\n",
    "str2 = \"이숭무의 나이는 %d입니다.\" % (age)\n",
    "print(str2)"
   ]
  },
  {
   "cell_type": "code",
   "execution_count": 119,
   "id": "964b52b1-4b0c-46ce-9b54-d7335b68061c",
   "metadata": {},
   "outputs": [
    {
     "name": "stdout",
     "output_type": "stream",
     "text": [
      "이숭무의 계좌번호는 1111이고 잔액은 1000입니다.\n",
      "이숭무의 계좌번호는 1111이고 잔액은 1000입니다.\n"
     ]
    }
   ],
   "source": [
    "'이숭무의 계좌번호는 1111이고 잔액은 100입니다.'\n",
    "name = '이숭무'\n",
    "account = \"1111\"\n",
    "money = 1000\n",
    "result = '%s의 계좌번호는 %s이고 잔액은 %d입니다.' % (name, account, money)\n",
    "print(result)\n",
    "print(name + '의 계좌번호는 '+ account +'이고 잔액은 '+ str(money) + '입니다.')"
   ]
  },
  {
   "cell_type": "code",
   "execution_count": 126,
   "id": "9ad0129b-6b93-4ccf-8497-7d1bda5269c3",
   "metadata": {},
   "outputs": [
    {
     "name": "stdout",
     "output_type": "stream",
     "text": [
      "이숭무의 나이는 20살이고 키는 175.300000입니다\n",
      "이숭무의 나이는 20살이고 키는 175.3입니다\n",
      "이숭무의 나이는 20살이고 키는 175.3입니다\n",
      "이숭무의 나이는 20살이고 키는 175.3입니다\n",
      "       이숭무의 나이는         20살이고 키는      175.3입니다\n",
      "이숭무의 나이는 20살이고 키는 175.3입니다\n"
     ]
    }
   ],
   "source": [
    "\"이숭무의 나이는 20살이고 키는 175.3입니다\"\n",
    "name = '이숭무'\n",
    "age = 20\n",
    "height = 175.3\n",
    "print(\"%s의 나이는 %d살이고 키는 %f입니다\" % (name,age,height));\n",
    "print(\"%s의 나이는 %d살이고 키는 %5.1f입니다\" % (name,age,height));\n",
    "print(\"%s의 나이는 %d살이고 키는 %3.1f입니다\" % (name,age,height));\n",
    "print(\"%s의 나이는 %d살이고 키는 %.1f입니다\" % (name,age,height));\n",
    "print(\"%10s의 나이는 %10d살이고 키는 %10.1f입니다\" % (name,age,height));\n",
    "print(\"%s의 나이는 %s살이고 키는 %s입니다\" % (name,age,height));"
   ]
  },
  {
   "cell_type": "code",
   "execution_count": 132,
   "id": "8749c863-5dd6-4148-974b-27b745f18378",
   "metadata": {},
   "outputs": [
    {
     "name": "stdout",
     "output_type": "stream",
     "text": [
      "       이숭무의 나이는         20살이고 키는      175.3입니다\n",
      "이숭무       의 나이는 20        살이고 키는 175.3     입니다\n",
      "이숭무       의 나이는 20        살이고 키는 175.3     입니다\n"
     ]
    }
   ],
   "source": [
    "# 정렬 : -는 왼쪽정렬, +는 오른쪽 정렬\n",
    "print(\"%10s의 나이는 %10d살이고 키는 %10.1f입니다\" % (name,age,height));\n",
    "print(\"%-10s의 나이는 %-10d살이고 키는 %-10.1f입니다\" % (name,age,height));\n",
    "print(\"%-10s의 나이는 %-10d살이고 키는 %-10.1f입니다\" % (\"이숭무\",age,height));"
   ]
  },
  {
   "cell_type": "code",
   "execution_count": 135,
   "id": "5aa7108b-df09-48cc-bf50-074352e2cd89",
   "metadata": {},
   "outputs": [
    {
     "name": "stdout",
     "output_type": "stream",
     "text": [
      "이숭무의 나이는 20살이고 키는 175.300000입니다\n",
      "이숭무의 나이는 20살이고 키는 175.3입니다\n",
      "이숭무의 나이는 20살이고 키는 175.3입니다\n",
      "이숭무의 나이는 20살이고 키는 175.2입니다\n"
     ]
    }
   ],
   "source": [
    "# format 함수를 사용한 포매팅\n",
    "# 변수 : a, i , str\n",
    "# 함수 : print(), int(), input(), str(), len(), format()\n",
    "name = '이숭무'\n",
    "age = 20\n",
    "height = 175.3\n",
    "print(\"%s의 나이는 %d살이고 키는 %f입니다\" % (name,age,height));\n",
    "print(\"{1}의 나이는 {0}살이고 키는 {2}입니다\".format(age,name,height));\n",
    "#                                                  0    1      2\n",
    "print(\"{1}의 나이는 {0}살이고 키는 {2}입니다\".format(age,\"이숭무\",height));\n",
    "print(\"{1}의 나이는 {0}살이고 키는 {2}입니다\".format(age,name,175.2));"
   ]
  },
  {
   "cell_type": "code",
   "execution_count": 143,
   "id": "483a40bb-fa93-44b6-8a43-78a27b42ce4e",
   "metadata": {},
   "outputs": [
    {
     "name": "stdout",
     "output_type": "stream",
     "text": [
      "이숭무의 나이는 20살이고 키는 175.3입니다\n",
      "이숭무의 나이는 20살이고 키는 175.3입니다\n",
      "이숭무의 나이는 20살이고 키는 173.5입니다\n"
     ]
    }
   ],
   "source": [
    "# format함수에 이름으로 넣기\n",
    "print(\"{1}의 나이는 {0}살이고 키는 {h}입니다\".format(age,name,h=height));\n",
    "print(\"{n}의 나이는 {0}살이고 키는 {h}입니다\".format(age,n=name,h=height));\n",
    "#print(\"{n}의 나이는 {0}살이고 키는 {2}입니다\".format(age,n=name,height));\n",
    "#print(\"{0}의 나이는 {a}살이고 키는 {1}입니다\".format(a = age, name,height));\n",
    "print(\"{n}의 나이는 {0}살이고 키는 {h}입니다\".format(age,n=name,h=173.5));\n",
    "# 이름은 뒤에서 부터 순차적으로 붙여준다."
   ]
  },
  {
   "cell_type": "code",
   "execution_count": 155,
   "id": "1ec5d192-1169-4a84-8271-83ce0a663ebc",
   "metadata": {},
   "outputs": [
    {
     "name": "stdout",
     "output_type": "stream",
     "text": [
      "이숭무       의 나이는         20살이고 키는 175.3     입니다\n",
      "이숭무       의 나이는         20살이고 키는      175.3입니다\n",
      "       이숭무의 나이는 20        살이고 키는   175.3   입니다\n",
      "-------이숭무의 나이는 20********살이고 키는 !!175.3!!!입니다\n",
      "{이숭무}의 나이는 20살이고 키는 175.3입니다\n",
      "{1}의 나이는 20살이고 키는 175.3입니다\n"
     ]
    }
   ],
   "source": [
    "#format함수를 이용한 정렬 : 왼쪽 정렬 : < , 오른쪽 정렬 : > , 가운데 정렬 : ^\n",
    "print(\"%-10s의 나이는 %10d살이고 키는 %-10.1f입니다\" % (name,age,height));\n",
    "# 문자는 왼쪽 , 숫자는 오른쪽\n",
    "print(\"{1:10}의 나이는 {0:10}살이고 키는 {2:10}입니다\".format(age,name,height));\n",
    "print(\"{1:>10}의 나이는 {0:<10}살이고 키는 {2:^10}입니다\".format(age,name,height));\n",
    "print(\"{1:->10}의 나이는 {0:*<10}살이고 키는 {2:!^10}입니다\".format(age,name,height));\n",
    "'''{이상범}의 나이는 !!!!20!!!!살이고 키는 **175.25**입니다'''\n",
    "print(\"{{이숭무}}의 나이는 {0}살이고 키는 {2}입니다\".format(age,name,height));\n",
    "print(\"{{1}}의 나이는 {0}살이고 키는 {2}입니다\".format(age,name,height));"
   ]
  },
  {
   "cell_type": "code",
   "execution_count": 162,
   "id": "46c571ee-dd38-44e3-9fc9-646b8884b2fc",
   "metadata": {},
   "outputs": [
    {
     "name": "stdout",
     "output_type": "stream",
     "text": [
      "이숭무의 나이는 35살이고 키는 175.3입니다\n",
      "이숭무의 나이는 35살이고 키는 175.300입니다\n",
      "이숭무의 나이는 35살이고 키는 175.3입니다\n",
      "이숭무의 나이는 35살이고 키는 175.300입니다\n"
     ]
    }
   ],
   "source": [
    "#포맷문자를 이용한 포맷팅\n",
    "#fotmat함수를 이용한 포맷팅\n",
    "#f 문자 포매팅\n",
    "name=\"이숭무\"\n",
    "age = 35\n",
    "height = 175.3\n",
    "'''이숭무의 나이는 20살이고 키는 175.3입니다'''\n",
    "print(\"%s의 나이는 %d살이고 키는 %.1f입니다\" % (name, age, height))\n",
    "print(\"{0}의 나이는 {1}살이고 키는 {2:.3f}입니다\".format(name, age, height))\n",
    "print(f\"{name}의 나이는 {age}살이고 키는 {height}입니다\")\n",
    "print(f\"{name}의 나이는 {age}살이고 키는 {height:.3f}입니다\")"
   ]
  },
  {
   "cell_type": "code",
   "execution_count": 165,
   "id": "2954b33f-bf52-4cfd-a1b1-c21f0290227b",
   "metadata": {},
   "outputs": [
    {
     "name": "stdout",
     "output_type": "stream",
     "text": [
      "       이숭무의 나이는 35        살이고 키는  175.300  입니다\n",
      "-------이숭무의 나이는 35********살이고 키는 _175.300__입니다\n"
     ]
    }
   ],
   "source": [
    "print(f\"{name:>10}의 나이는 {age:<10}살이고 키는 {height:^10.3f}입니다\")\n",
    "print(f\"{name:->10}의 나이는 {age:*<10}살이고 키는 {height:_^10.3f}입니다\")"
   ]
  },
  {
   "cell_type": "code",
   "execution_count": 168,
   "id": "75a74415-bb3b-4469-adc5-a388128ca49e",
   "metadata": {},
   "outputs": [
    {
     "name": "stdout",
     "output_type": "stream",
     "text": [
      "17\n",
      "17\n",
      "3\n"
     ]
    }
   ],
   "source": [
    "# 문자열 가공 : 문자열 함수\n",
    "str1 = \"Life is too short\"\n",
    "print(len(str1)) # 17\n",
    "print(len(\"Life is too short\"))\n",
    "# 특정문자의 갯수\n",
    "print(str1.count('o')) \n",
    "print(\"Life is too short\".count('o'))"
   ]
  },
  {
   "cell_type": "code",
   "execution_count": 173,
   "id": "c60111a5-32de-40d1-8b85-32f8ef1a3b57",
   "metadata": {},
   "outputs": [
    {
     "name": "stdout",
     "output_type": "stream",
     "text": [
      "8\n",
      "too\n",
      "too\n",
      "8\n",
      "too\n",
      "too\n"
     ]
    }
   ],
   "source": [
    "str1 = \"Life is too short\"\n",
    "#       0123456789...\n",
    "print(str1.index('t'))\n",
    "# too문자열 출력\n",
    "print(str1[8:8+3])\n",
    "print(str1[str1.index('t'):str1.index('t')+3])\n",
    "# too의 index를 찾으시오\n",
    "word = 'too'\n",
    "lenth = len(word)\n",
    "print(str1.index(word)) # 문자열의 첫번째 문자의 index\n",
    "\n",
    "print(str1[8:8+3])\n",
    "print(str1[str1.index(word):str1.index(word)+lenth])"
   ]
  },
  {
   "cell_type": "code",
   "execution_count": 176,
   "id": "3abc7e7b-3af7-4269-ab13-9e559d87aba2",
   "metadata": {},
   "outputs": [
    {
     "name": "stdout",
     "output_type": "stream",
     "text": [
      "12\n",
      "short\n",
      "short\n"
     ]
    }
   ],
   "source": [
    "str1 = \"Life is too short\"\n",
    "# short\n",
    "word = \"short\"\n",
    "wordCount = len(word)\n",
    "idx = str1.index(word)\n",
    "print(idx)\n",
    "print(str1[12:12+5])\n",
    "print(str1[idx:idx+wordCount])"
   ]
  },
  {
   "cell_type": "code",
   "execution_count": 179,
   "id": "514e6643-3243-43f0-b8a8-ea4ab15b8621",
   "metadata": {},
   "outputs": [
    {
     "name": "stdout",
     "output_type": "stream",
     "text": [
      "ife is too\n",
      "5\n",
      "is too sho\n",
      "is too sho\n"
     ]
    }
   ],
   "source": [
    "str1 = \"Life is too short\"\n",
    "#       0123456789\n",
    "##str1에서 첫번째 i가 있는 문자부터 10글자\n",
    "idx = str1.index('i') # 첫번째 나온는 문자의 index\n",
    "print(str1[idx:idx+10])\n",
    "### 두번째 i부터 10글자\n",
    "idx = str1.index('i',2) # 5\n",
    "print(idx)\n",
    "print(str1[5:5+10])\n",
    "print(str1[idx:idx+10])"
   ]
  },
  {
   "cell_type": "code",
   "execution_count": 180,
   "id": "ed87421e-ad89-42af-8290-c9ec1d66b764",
   "metadata": {},
   "outputs": [
    {
     "name": "stdout",
     "output_type": "stream",
     "text": [
      "sho\n"
     ]
    }
   ],
   "source": [
    "str1 = \"Life is too short\"\n",
    "# idx = str1.index('i',2)\n",
    "idx1 = str1.index('i') # 첫번째 i의 index : 1\n",
    "idx2 = str1.index('i', idx1+1) # 두번째 i의 index\n",
    "idx2 = str1.index('i', str1.index('i') + 1)\n",
    "# 마지막 's'에서 3글자\n",
    "idx = str1.rindex('s')\n",
    "print(str1[idx:idx+3])"
   ]
  },
  {
   "cell_type": "code",
   "execution_count": 184,
   "id": "ab367b5c-f5b9-4f13-a29c-d4af464932b3",
   "metadata": {},
   "outputs": [
    {
     "name": "stdout",
     "output_type": "stream",
     "text": [
      "6\n",
      "6\n",
      "12\n"
     ]
    }
   ],
   "source": [
    "# find : index함수 처럼 index를 가져오는 함수\n",
    "# i 의 index\n",
    "idx = str1.index('s')\n",
    "print(idx)\n",
    "idx = str1.find('s')\n",
    "print(idx)\n",
    "idx = str1.find('s',7)\n",
    "print(idx)"
   ]
  },
  {
   "cell_type": "code",
   "execution_count": 188,
   "id": "b3e74bc2-3b9d-439e-99c6-9048631ad95f",
   "metadata": {},
   "outputs": [
    {
     "name": "stdout",
     "output_type": "stream",
     "text": [
      "Life is too short\n",
      "-1\n"
     ]
    }
   ],
   "source": [
    "#index와 find의 차이\n",
    "print(str1)\n",
    "print(str1.find('zoo')) # -1 :해당문자가 없다.\n",
    "#print(str1.index('zoo')) # 해당문자가 없으면 오류"
   ]
  },
  {
   "cell_type": "code",
   "execution_count": 194,
   "id": "3ba5af7f-36ff-4ab3-a937-c5b94f6bcc68",
   "metadata": {},
   "outputs": [
    {
     "name": "stdout",
     "output_type": "stream",
     "text": [
      "Life is too short\n",
      "LIFE IS TOO SHORT\n",
      "Life is too short\n",
      "life is too short\n",
      "Life is too short\n"
     ]
    }
   ],
   "source": [
    "#  모두 대문자 변경\n",
    "print(str1)\n",
    "result = str1.upper()\n",
    "print(result)\n",
    "print(str1)\n",
    "#  모두 소문자\n",
    "result = str1.lower()\n",
    "print(result)\n",
    "print(str1)"
   ]
  },
  {
   "cell_type": "code",
   "execution_count": 198,
   "id": "568f3375-fcea-4513-a287-5aae50281372",
   "metadata": {},
   "outputs": [
    {
     "name": "stdout",
     "output_type": "stream",
     "text": [
      "    highland0    \n",
      "highland0\n",
      "highland0    \n",
      "    highland0\n"
     ]
    }
   ],
   "source": [
    "str1 = \"    highland0    \"\n",
    "print(str1)\n",
    "result = str1.strip()\n",
    "print(result)\n",
    "result = str1.lstrip()\n",
    "print(result)\n",
    "result = str1.rstrip()\n",
    "print(result)"
   ]
  },
  {
   "cell_type": "code",
   "execution_count": 199,
   "id": "d1fb1fe9-73cb-40f4-8388-18e9537e5188",
   "metadata": {},
   "outputs": [
    {
     "name": "stdout",
     "output_type": "stream",
     "text": [
      "high land 0\n"
     ]
    }
   ],
   "source": [
    "str1 = \"    high land 0    \"\n",
    "result = str1.strip()\n",
    "print(result)"
   ]
  },
  {
   "cell_type": "code",
   "execution_count": 202,
   "id": "1efc29fb-e322-4c11-b3f3-6b76ebaed92c",
   "metadata": {},
   "outputs": [
    {
     "name": "stdout",
     "output_type": "stream",
     "text": [
      "abhighland0ab\n",
      "highland0\n"
     ]
    }
   ],
   "source": [
    "str1 = \"    abhighland0ab     \"\n",
    "result = str1.strip()\n",
    "print(result) # abhighland0ab\n",
    "result1 = result.strip('ab')\n",
    "print(result1)"
   ]
  },
  {
   "cell_type": "code",
   "execution_count": 203,
   "id": "fb1b53ae-4646-4353-b69b-c6992c62aeb8",
   "metadata": {},
   "outputs": [
    {
     "name": "stdout",
     "output_type": "stream",
     "text": [
      "abhighland0ab\n",
      "highland0\n"
     ]
    }
   ],
   "source": [
    "str1 = \"    abhighland0ab     \"\n",
    "result = str1.strip()\n",
    "print(result) # abhighland0ab\n",
    "result1 = str1.strip().strip('ab')\n",
    "print(result1)"
   ]
  },
  {
   "cell_type": "code",
   "execution_count": 208,
   "id": "d0aec041-25b8-4b7f-859e-ddae12b7c69f",
   "metadata": {},
   "outputs": [
    {
     "name": "stdout",
     "output_type": "stream",
     "text": [
      "python\n",
      "pithon\n",
      "Your leg is too short\n"
     ]
    }
   ],
   "source": [
    "### # 문자열 대체하기\n",
    "str1 = \"pithon\"\n",
    "str2 = str1.replace('i','y')\n",
    "print(str2)\n",
    "print(str1)\n",
    "str1 = \"Life is too short\" #\"Life\" : \"Your leg\"\n",
    "str2 = str1.replace(\"Life\",\"Your leg\")\n",
    "print(str2)"
   ]
  },
  {
   "cell_type": "code",
   "execution_count": 211,
   "id": "6d1786f3-af02-468c-bfe8-0143332d90ff",
   "metadata": {},
   "outputs": [
    {
     "name": "stdout",
     "output_type": "stream",
     "text": [
      "Life is too short\n",
      "['Life', 'is', 'too', 'short']\n",
      "['Life', 'is', 'too', 'short']\n"
     ]
    }
   ],
   "source": [
    "# 쪼개기 : split : 결과는 리스트 쪼개기 : split : 결과는 리스트\n",
    "print(str1) # Life is too short\n",
    "result = str1.split() # 구문문자 : 공백문자\n",
    "print(result)\n",
    "str1 = \"Life:is:too:short\"\n",
    "result = str1.split(':') # 구문문자 : :\n",
    "print(result)"
   ]
  },
  {
   "cell_type": "code",
   "execution_count": 212,
   "id": "2010258e-c55e-4013-bfb9-a23ac0fb2cde",
   "metadata": {},
   "outputs": [
    {
     "name": "stdout",
     "output_type": "stream",
     "text": [
      "['Life', 'is', 'too', 'short']\n"
     ]
    }
   ],
   "source": [
    "import re\n",
    "str1 = \"Life:is,too-short\"\n",
    "result = re.split('[:,-]',str1)\n",
    "print(result)\n",
    "# ['Life', 'is', 'too', 'short'] : 리스트"
   ]
  }
 ],
 "metadata": {
  "kernelspec": {
   "display_name": "Python 3 (ipykernel)",
   "language": "python",
   "name": "python3"
  },
  "language_info": {
   "codemirror_mode": {
    "name": "ipython",
    "version": 3
   },
   "file_extension": ".py",
   "mimetype": "text/x-python",
   "name": "python",
   "nbconvert_exporter": "python",
   "pygments_lexer": "ipython3",
   "version": "3.13.3"
  }
 },
 "nbformat": 4,
 "nbformat_minor": 5
}
