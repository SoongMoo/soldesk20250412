{
 "cells": [
  {
   "cell_type": "code",
   "execution_count": 3,
   "id": "e2cb3b67-d589-4623-bb21-b4f6d0d856ed",
   "metadata": {},
   "outputs": [
    {
     "name": "stdout",
     "output_type": "stream",
     "text": [
      "C\n",
      "C\n"
     ]
    }
   ],
   "source": [
    "#단일 if, if ~ else , 다중 if문:조건식이 여러개인 경우\n",
    "# 학점 90이상이면 \"A\" , 80점이상이면 \"B\", 70점이상이면 \"C\" , 60점이상이면 \"D\"\n",
    "# 아니면 \"F\"\n",
    "score = 78\n",
    "if score >= 90:\n",
    "    print(\"A\")\n",
    "elif score >= 80: # 89 ~ 80\n",
    "    print(\"B\")\n",
    "elif score >= 70: # 79 ~ 70\n",
    "    print(\"C\")\n",
    "elif score >= 60: # 69 ~ 60\n",
    "    print(\"D\")\n",
    "else: # 59 ~\n",
    "    print(\"F\")\n",
    "############################################\n",
    "if score >= 90:\n",
    "    message = \"A\"\n",
    "elif score >= 80:\n",
    "    message = \"B\"\n",
    "elif score >= 70:\n",
    "    message = \"C\"\n",
    "elif score >= 60:\n",
    "    message = \"D\"\n",
    "else:\n",
    "    message =\"F\"\n",
    "print(message)"
   ]
  },
  {
   "cell_type": "code",
   "execution_count": null,
   "id": "a4909864-9559-4376-83db-84622ec0c87b",
   "metadata": {},
   "outputs": [],
   "source": [
    "if score >= 90:\n",
    "    message = \"A\"\n",
    "else:\n",
    "    if score >= 80:\n",
    "        message = \"B\"\n",
    "    else:\n",
    "        if score >= 70:\n",
    "            message = \"C\"\n",
    "        else:\n",
    "            if score >= 60:\n",
    "                message = \"D\"\n",
    "            else:\n",
    "                message =\"F\"\n",
    "print(message)"
   ]
  },
  {
   "cell_type": "code",
   "execution_count": 5,
   "id": "6ed50af8-39ed-4e96-90a8-b250bd472a76",
   "metadata": {},
   "outputs": [
    {
     "name": "stdout",
     "output_type": "stream",
     "text": [
      "합격\n"
     ]
    }
   ],
   "source": [
    "if score >= 60:\n",
    "    message =\"합격\"\n",
    "else:\n",
    "    message = \"불합격\"\n",
    "print(message)\n",
    "###########################################\n",
    "#파이썬에서 사용하는 방식\n",
    "message =\"합격\" if score >= 60 else \"불합격\"\n",
    "print(message)"
   ]
  },
  {
   "cell_type": "code",
   "execution_count": 7,
   "id": "83bd59c1-da18-45cf-bcca-a695d5b7aa28",
   "metadata": {},
   "outputs": [
    {
     "name": "stdout",
     "output_type": "stream",
     "text": [
      "C\n",
      "C\n"
     ]
    }
   ],
   "source": [
    "if score >= 90:\n",
    "    message = \"A\"\n",
    "else:\n",
    "    if score >= 80:\n",
    "        message = \"B\"\n",
    "    else:\n",
    "        if score >= 70:\n",
    "            message = \"C\"\n",
    "        else:\n",
    "            if score >= 60:\n",
    "                message = \"D\"\n",
    "            else:\n",
    "                message =\"F\"\n",
    "print(message)\n",
    "###########\n",
    "message = \"A\" if score >= 90 else(\n",
    "          \"B\" if score >= 80 else(\n",
    "          \"C\" if score >= 70 else(\n",
    "          \"D\" if score >= 60 else \n",
    "          \"F\" )))\n",
    "print(message)"
   ]
  },
  {
   "cell_type": "code",
   "execution_count": null,
   "id": "ad87f5cb-dc46-4a89-b604-dc27c2fc7563",
   "metadata": {},
   "outputs": [],
   "source": [
    "# if문을 이용한 사직연산 \n",
    "a = 10; b = 20; opt = \"sub\"\n",
    "if opt == \"add\":\n",
    "    message = a + b\n",
    "elif opt == \"sub\":\n",
    "    message = a - b\n",
    "elif opt == \"mul\":\n",
    "    message = a * b\n",
    "else:\n",
    "    messge = a / b\n",
    "print(message)\n",
    "########################################\n",
    "# 파이썬 스타일\n",
    "message = a + b if opt == \"add\" else(\n",
    "          a - b if opt == \"sub\" else(\n",
    "          a * b if opt == \"mul\" else\n",
    "          a / b))\n",
    "print(message)"
   ]
  },
  {
   "cell_type": "code",
   "execution_count": 13,
   "id": "8fc2ef45-911b-4b79-82ee-f12284ea22c5",
   "metadata": {},
   "outputs": [
    {
     "name": "stdout",
     "output_type": "stream",
     "text": [
      "C+\n",
      "C+\n"
     ]
    },
    {
     "data": {
      "text/plain": [
       "'\\ncity = \"02\"\\nswitch(city){\\n    case \"02\" : message = \"서울\"; break;\\n    case \"031\" : message = \"경기도\"; break;\\n}\\ndic = {\"02\": \"서울\", \"031\":\"경기도\"}\\nmessage = dic[\\'02\\']\\n'"
      ]
     },
     "execution_count": 13,
     "metadata": {},
     "output_type": "execute_result"
    }
   ],
   "source": [
    "# 이중 if문\n",
    "# 95이상이면 A+ 90이상이면 A\n",
    "if score >= 90:\n",
    "    if score >= 95:\n",
    "        message = \"A+\"\n",
    "    else:\n",
    "        message = \"A\"\n",
    "elif score >= 80:\n",
    "    if score >= 85:\n",
    "        message = \"B+\"\n",
    "    else:\n",
    "        message = \"B\"\n",
    "elif score >= 70:\n",
    "    if score >= 75:\n",
    "        message = \"C+\"\n",
    "    else:\n",
    "        message = \"C\"\n",
    "elif score >= 60:\n",
    "    if score >= 65:\n",
    "        message = \"D+\"\n",
    "    else:\n",
    "        message = \"D\"\n",
    "else:\n",
    "    message =\"F\"\n",
    "print(message)\n",
    "############ 한줄 if문 다중 if문으로\n",
    "message = \"A+\" if score >= 95 else(\n",
    "    \t  \"A\"  if score >= 90 else( \n",
    "          \"B+\" if score >= 85 else(\n",
    "          \"B\"  if score >= 80 else(\n",
    "          \"C+\" if score >= 75 else(\n",
    "          \"C\"  if score >= 70 else(\n",
    "          \"D+\" if score >= 65 else( \n",
    "          \"D\"  if score >= 60 else( \n",
    "          \"F\"))))))))\n",
    "print(message)\n",
    "# switch ~ case : 파이썬에서는 사용하지 않는다. : 딕셔너리\n",
    "'''\n",
    "city = \"02\"\n",
    "switch(city){\n",
    "    case \"02\" : message = \"서울\"; break;\n",
    "    case \"031\" : message = \"경기도\"; break;\n",
    "}\n",
    "dic = {\"02\": \"서울\", \"031\":\"경기도\"}\n",
    "message = dic['02']\n",
    "'''"
   ]
  },
  {
   "cell_type": "code",
   "execution_count": 15,
   "id": "f6fd4b72-05fe-4ea7-ac70-c99fc870d122",
   "metadata": {},
   "outputs": [
    {
     "name": "stdout",
     "output_type": "stream",
     "text": [
      "나무를 1번찍었습니다\n",
      "나무를 2번찍었습니다\n",
      "나무를 3번찍었습니다\n",
      "나무를 4번찍었습니다\n",
      "나무를 5번찍었습니다\n",
      "나무를 6번찍었습니다\n",
      "나무를 7번찍었습니다\n",
      "나무를 8번찍었습니다\n",
      "나무를 9번찍었습니다\n",
      "나무를 10번찍었습니다\n",
      "나무가 넘어갑니다\n",
      "나무를 1번찍었습니다\n",
      "나무를 2번찍었습니다\n",
      "나무를 3번찍었습니다\n",
      "나무를 4번찍었습니다\n",
      "나무를 5번찍었습니다\n",
      "나무를 6번찍었습니다\n",
      "나무를 7번찍었습니다\n",
      "나무를 8번찍었습니다\n",
      "나무를 9번찍었습니다\n",
      "나무를 10번찍었습니다\n"
     ]
    }
   ],
   "source": [
    "# 제어문 :  조건문 : if , 반복문 : while, for\n",
    "# 반복문 : 반복적으로 사용하기 위한 명령문\n",
    "print(\"나무를 1번찍었습니다\")\n",
    "print(\"나무를 2번찍었습니다\")\n",
    "print(\"나무를 3번찍었습니다\")\n",
    "print(\"나무를 4번찍었습니다\")\n",
    "print(\"나무를 5번찍었습니다\")\n",
    "print(\"나무를 6번찍었습니다\")\n",
    "print(\"나무를 7번찍었습니다\")\n",
    "print(\"나무를 8번찍었습니다\")\n",
    "print(\"나무를 9번찍었습니다\")\n",
    "print(\"나무를 10번찍었습니다\")\n",
    "print(\"나무가 넘어갑니다\")\n",
    "start = 1\n",
    "while start <= 10: # 결과가 True이면 실행 결과 False이면 stop\n",
    "    print(f\"나무를 {start}번찍었습니다\")\n",
    "    #print(\"나무를 %d번찍었습니다\" % start)\n",
    "    #print(\"나무를 {0}번찍었습니다\".format(start))\n",
    "    start = start + 1 # start를 1씩 증가"
   ]
  },
  {
   "cell_type": "code",
   "execution_count": 18,
   "id": "6c5830e9-8160-46a0-80ce-e237796bccd6",
   "metadata": {},
   "outputs": [
    {
     "name": "stdout",
     "output_type": "stream",
     "text": [
      "8 * 1 = 8\n",
      "8 * 2 = 16\n",
      "8 * 3 = 24\n",
      "8 * 4 = 32\n",
      "8 * 5 = 40\n",
      "8 * 6 = 48\n",
      "8 * 7 = 56\n",
      "8 * 8 = 64\n",
      "8 * 9 = 72\n"
     ]
    }
   ],
   "source": [
    "# 구구단\n",
    "# 8단\n",
    "'''\n",
    "8 * 1 = (8 * 1)\n",
    "8 * 2 = (8 * 2)\n",
    "8 * 3 = (8 * 3)\n",
    "8 * 4 = (8 * 4)\n",
    "8 * 5 = (8 * 5)\n",
    "8 * 6 = (8 * 6)\n",
    "8 * 7 = (8 * 7)\n",
    "8 * 8 = (8 * 8)\n",
    "8 * 9 = (8 * 9)\n",
    "'''\n",
    "start = 1\n",
    "while start <= 9:\n",
    "    print(f\"8 * {start} = {8 * start}\")\n",
    "    #print(\"8 * {0} = {1}\".format(start , 8 * start))\n",
    "    #print(\"8 * %d = %d\" % (start ,  8 * start))\n",
    "    start = start + 1"
   ]
  },
  {
   "cell_type": "code",
   "execution_count": 24,
   "id": "3b9e1334-3f43-4e72-955b-21cb93ca19f6",
   "metadata": {},
   "outputs": [
    {
     "name": "stdin",
     "output_type": "stream",
     "text": [
      "곱의 시작 숫자를 입력하세요. 2\n",
      "곱의 마지막 숫자를 입력하세요. 5\n",
      "단 숫자를 입력하세요. 7\n"
     ]
    },
    {
     "name": "stdout",
     "output_type": "stream",
     "text": [
      "7 * 2 = 14\n",
      "7 * 3 = 21\n",
      "7 * 4 = 28\n",
      "7 * 5 = 35\n"
     ]
    }
   ],
   "source": [
    "start = int(input(\"곱의 시작 숫자를 입력하세요.\")) # 2\n",
    "end = int(input(\"곱의 마지막 숫자를 입력하세요.\")) # 8\n",
    "dan = int(input(\"단 숫자를 입력하세요.\"))\n",
    "while start <= end:\n",
    "    print(f\"{dan} * {start} = {dan * start}\")\n",
    "    start = start + 1"
   ]
  },
  {
   "cell_type": "code",
   "execution_count": 80,
   "id": "fc5c3b76-69b8-4d80-8c3a-02e9946f6508",
   "metadata": {},
   "outputs": [
    {
     "name": "stdout",
     "output_type": "stream",
     "text": [
      "index : 4\n",
      "5\n",
      "5\n",
      "[1, 2, 3, 4, 6, 7, 8, 9]\n"
     ]
    }
   ],
   "source": [
    "#로또\n",
    "import random # 모듈 : 함수, 변수\n",
    "#                    0,1,2,3,4,5,6,7,8\n",
    "idx = random.randint(0, 8) # 숫자를 출력\n",
    "print(\"index : \" + str(idx))\n",
    "l = [1,2,3,4,5,6,7,8,9]\n",
    "#    0 1 2 3 4 5 6 7 8\n",
    "print(l[idx])\n",
    "result = l.pop(idx)\n",
    "print(result)\n",
    "print(l)"
   ]
  },
  {
   "cell_type": "code",
   "execution_count": 20,
   "id": "e635ff07-9ddd-4e37-b698-49861f2c6e5d",
   "metadata": {},
   "outputs": [
    {
     "name": "stdout",
     "output_type": "stream",
     "text": [
      "[1, 2, 3, 4, 5, 6, 7, 8, 9, 10, 11, 12, 13, 14, 15, 16, 17, 18, 19, 20, 21, 22, 23, 24, 25, 26, 27, 28, 29, 30, 31, 32, 33, 34, 35, 36, 37, 38, 39, 40, 41, 42, 43, 44, 45]\n",
      "45\n",
      "39, 3, 42, 28, 26, 40, "
     ]
    }
   ],
   "source": [
    "import random\n",
    "lotto = []\n",
    "i = 1\n",
    "while i <= 45:\n",
    "    lotto.append(i)\n",
    "    i += 1 # i = i + 1\n",
    "print(lotto)\n",
    "size = len(lotto) # 45\n",
    "print(size)\n",
    "y = 1\n",
    "while y <= 6:\n",
    "    size -= 1\n",
    "    idx = random.randint(0, size) # 44 , 43\n",
    "    result = lotto.pop(idx) # 44 : 0 ~ 43\n",
    "    print(result ,end = \", \")\n",
    "    y += 1"
   ]
  },
  {
   "cell_type": "code",
   "execution_count": 88,
   "id": "8766b4a7-3c9c-45bd-bf8f-1b7f4321bd94",
   "metadata": {},
   "outputs": [
    {
     "name": "stdout",
     "output_type": "stream",
     "text": [
      "6 * 1 = 6\n",
      "6 * 2 = 12\n",
      "6 * 3 = 18\n",
      "6 * 4 = 24\n",
      "6 * 5 = 30\n",
      "6 * 6 = 36\n",
      "6 * 7 = 42\n",
      "6 * 8 = 48\n",
      "6 * 9 = 54\n",
      "7 * 1 = 7\n",
      "7 * 2 = 14\n",
      "7 * 3 = 21\n",
      "7 * 4 = 28\n",
      "7 * 5 = 35\n",
      "7 * 6 = 42\n",
      "7 * 7 = 49\n",
      "7 * 8 = 56\n",
      "7 * 9 = 63\n",
      "8 * 1 = 8\n",
      "8 * 2 = 16\n",
      "8 * 3 = 24\n",
      "8 * 4 = 32\n",
      "8 * 5 = 40\n",
      "8 * 6 = 48\n",
      "8 * 7 = 56\n",
      "8 * 8 = 64\n",
      "8 * 9 = 72\n"
     ]
    }
   ],
   "source": [
    "# 6단\n",
    "start = 1\n",
    "while start <= 9:\n",
    "    print(f\"6 * {start} = {6 * start}\")\n",
    "    start = start + 1\n",
    "#7단\n",
    "start = 1\n",
    "while start <= 9:\n",
    "    print(f\"7 * {start} = {7 * start}\")\n",
    "    start = start + 1\n",
    "#8단\n",
    "start = 1\n",
    "while start <= 9:\n",
    "    print(f\"8 * {start} = {8 * start}\")\n",
    "    start = start + 1\n",
    "    "
   ]
  },
  {
   "cell_type": "code",
   "execution_count": 2,
   "id": "3263cb32-95b2-4f8e-acb9-cdc28062c87f",
   "metadata": {},
   "outputs": [
    {
     "name": "stdout",
     "output_type": "stream",
     "text": [
      "6 * 1 = 6\n",
      "6 * 2 = 12\n",
      "6 * 3 = 18\n",
      "6 * 4 = 24\n",
      "6 * 5 = 30\n",
      "6 * 6 = 36\n",
      "6 * 7 = 42\n",
      "6 * 8 = 48\n",
      "6 * 9 = 54\n",
      "7 * 1 = 7\n",
      "7 * 2 = 14\n",
      "7 * 3 = 21\n",
      "7 * 4 = 28\n",
      "7 * 5 = 35\n",
      "7 * 6 = 42\n",
      "7 * 7 = 49\n",
      "7 * 8 = 56\n",
      "7 * 9 = 63\n",
      "8 * 1 = 8\n",
      "8 * 2 = 16\n",
      "8 * 3 = 24\n",
      "8 * 4 = 32\n",
      "8 * 5 = 40\n",
      "8 * 6 = 48\n",
      "8 * 7 = 56\n",
      "8 * 8 = 64\n",
      "8 * 9 = 72\n"
     ]
    }
   ],
   "source": [
    "# 다중 반복문\n",
    "dan = 6\n",
    "while dan <= 8:\n",
    "    start = 1\n",
    "    while start <= 9:\n",
    "        print(f\"{dan} * {start} = {dan * start}\")\n",
    "        start = start + 1\n",
    "    dan += 1"
   ]
  },
  {
   "cell_type": "code",
   "execution_count": 3,
   "id": "9eaccd62-9ed7-41b1-a0cc-7cb4c87df314",
   "metadata": {},
   "outputs": [
    {
     "name": "stdin",
     "output_type": "stream",
     "text": [
      "시작단의 숫자를 입력하세요. 3\n",
      "마지막단의 숫자를 입력하세요. 5\n",
      "시작곱의 숫자을 입력하세요. 3\n",
      "마지막곱의 숫자을 입력하세요. 6\n"
     ]
    },
    {
     "name": "stdout",
     "output_type": "stream",
     "text": [
      "3 * 3 = 9\n",
      "3 * 4 = 12\n",
      "3 * 5 = 15\n",
      "3 * 6 = 18\n",
      "4 * 3 = 12\n",
      "4 * 4 = 16\n",
      "4 * 5 = 20\n",
      "4 * 6 = 24\n",
      "5 * 3 = 15\n",
      "5 * 4 = 20\n",
      "5 * 5 = 25\n",
      "5 * 6 = 30\n"
     ]
    }
   ],
   "source": [
    "startDan = int(input(\"시작단의 숫자를 입력하세요.\"))\n",
    "endDan = int(input(\"마지막단의 숫자를 입력하세요.\"))\n",
    "startProduct = int(input(\"시작곱의 숫자을 입력하세요.\"))\n",
    "endProduct = int(input(\"마지막곱의 숫자을 입력하세요.\"))\n",
    "dan = startDan\n",
    "while dan <= endDan: # 단\n",
    "    times  = startProduct # 곱\n",
    "    while product <= endProduct: \n",
    "        print(f\"{dan} * {product} = {dan * product}\")\n",
    "        product = product + 1\n",
    "    dan += 1"
   ]
  },
  {
   "cell_type": "code",
   "execution_count": 24,
   "id": "a17fc79a-95d5-4508-880a-ae77cb6b2ba2",
   "metadata": {},
   "outputs": [
    {
     "name": "stdin",
     "output_type": "stream",
     "text": [
      "구매수량을 입력하세요. :  7\n"
     ]
    },
    {
     "name": "stdout",
     "output_type": "stream",
     "text": [
      "24, 4, 13, 19, 43, 28, \n",
      "25, 32, 22, 4, 21, 15, \n",
      "36, 32, 9, 22, 24, 6, \n",
      "4, 9, 3, 42, 7, 2, \n",
      "23, 21, 1, 2, 20, 6, \n",
      "33, 19, 40, 9, 7, 42, \n",
      "33, 38, 3, 41, 18, 39, \n"
     ]
    }
   ],
   "source": [
    "count = int(input(\"구매수량을 입력하세요. : \")) #5\n",
    "cnt = 1\n",
    "lotto = []\n",
    "while cnt <= count:\n",
    "    i = 1\n",
    "    while i <= 45:\n",
    "        lotto.append(i)\n",
    "        i += 1 # i = i + 1\n",
    "    size = len(lotto) # 45\n",
    "    y = 1\n",
    "    while y <= 6:\n",
    "        size -= 1\n",
    "        idx = random.randint(0, size) # 44 , 43, 42,41,40,39\n",
    "        result = lotto.pop(idx) # 44 : 0 ~ 43\n",
    "        print(result ,end = \", \") \n",
    "        y += 1  \n",
    "    lotto.clear() # lotto:45- 6 : 39\n",
    "    print()    \n",
    "    cnt += 1"
   ]
  },
  {
   "cell_type": "code",
   "execution_count": 29,
   "id": "ab93911c-5668-4012-8625-31e9d6dff5c5",
   "metadata": {},
   "outputs": [
    {
     "name": "stdout",
     "output_type": "stream",
     "text": [
      "10\n",
      "10\n"
     ]
    }
   ],
   "source": [
    "#반복문 : while, for\n",
    "l = [1,2,3,4] # len(l) : 4\n",
    "# 리스트 요소의 합을 구하시오.\n",
    "sum1 = 0\n",
    "idx = 0\n",
    "while idx < len(l): # 크기를 알 수 없을 때 True : 무한루프\n",
    "    sum1 = sum1 + l[idx]\n",
    "    idx += 1\n",
    "print(sum1) # 10\n",
    "### for : forEach\n",
    "sum1 = 0\n",
    "for i in l: # [1,2,3,4] : 크기를 알 수 있을 때\n",
    "    sum1 = sum1 + i\n",
    "print(sum1)  \n",
    "sum1 = 0\n",
    "for i in [1,2,3,4]:\n",
    "    sum1 = sum1+ i\n",
    "print(sum1)\n",
    "sum1 = 0\n",
    "t = (1,2,3,4)\n",
    "for i in t:\n",
    "    sum1 = sum1 + i\n",
    "print(sum1)"
   ]
  },
  {
   "cell_type": "code",
   "execution_count": 30,
   "id": "0d07b264-4a93-43ae-b31d-198be2eb3833",
   "metadata": {},
   "outputs": [
    {
     "name": "stdout",
     "output_type": "stream",
     "text": [
      "0\n",
      "1\n",
      "2\n",
      "3\n",
      "4\n",
      "5\n",
      "6\n",
      "7\n",
      "8\n",
      "9\n"
     ]
    }
   ],
   "source": [
    "# range사용\n",
    "for i in range(0, 10): #(0,1,2,3,4,5,6,7,8,9)\n",
    "    print(i)\n",
    "l = [1,2,3,4]\n",
    "for idx in range(0, 4): # index로 사용\n",
    "    print(l[idx])\n",
    "for idx in range(0, len(l)): # index로 사용\n",
    "    print(l[idx])\n",
    "\n",
    "sum1 = 0;\n",
    "for idx in range(0, len(l)): # range를 이용해서 index로 값을 받아옴\n",
    "    sum1 = sum1 + l[idx]\n",
    "print(sum1)\n",
    "\n",
    "sum1 = 0\n",
    "for i in l: # each\n",
    "    sum1 = sum1 + i\n",
    "print(sum1)"
   ]
  },
  {
   "cell_type": "code",
   "execution_count": 32,
   "id": "52eafaf2-ad7b-4182-97ee-fae615ea561b",
   "metadata": {},
   "outputs": [
    {
     "name": "stdout",
     "output_type": "stream",
     "text": [
      "8 * 1 = 8\n",
      "8 * 2 = 16\n",
      "8 * 3 = 24\n",
      "8 * 4 = 32\n",
      "8 * 5 = 40\n",
      "8 * 6 = 48\n",
      "8 * 7 = 56\n",
      "8 * 8 = 64\n",
      "8 * 9 = 72\n"
     ]
    }
   ],
   "source": [
    "# 6단\n",
    "for times in range(1, 10): # 1 ~ 9\n",
    "    print(f\"6 * {times} = {6 * times}\")\n",
    "# 7단\n",
    "for times in range(1, 10): # 1 ~ 9\n",
    "    print(f\"7 * {times} = {7 * times}\")\n",
    "# 8단\n",
    "for times in range(1, 10): # 1 ~ 9\n",
    "    print(f\"8 * {times} = {8 * times}\")\n",
    "\n",
    "for dan in range(2, 10):\n",
    "    for times in range(1, 10): # 1 ~ 9\n",
    "        print(f\"{dan} * {times} = {dan * times}\")"
   ]
  },
  {
   "cell_type": "code",
   "execution_count": 35,
   "id": "29ee9a8f-37b5-430d-a229-1cfa6ea5bbf3",
   "metadata": {},
   "outputs": [
    {
     "name": "stdout",
     "output_type": "stream",
     "text": [
      "[1, 2, 3, 4, 5, 6, 7, 8, 9, 10, 11, 12, 13, 14, 15, 16, 17, 18, 19, 20, 21, 22, 23, 24, 25, 26, 27, 28, 29, 30, 31, 32, 33, 34, 35, 36, 37, 38, 39, 40, 41, 42, 43, 44, 45]\n",
      "[1, 2, 3, 4, 5, 6, 7, 8, 9, 10, 11, 12, 13, 14, 15, 16, 17, 18, 19, 20, 21, 22, 23, 24, 25, 26, 27, 28, 29, 30, 31, 32, 33, 34, 35, 36, 37, 38, 39, 40, 41, 42, 43, 44, 45]\n",
      "[9, 12, 15, 21, 24]\n"
     ]
    }
   ],
   "source": [
    "# 리스트로 1부터 45까지 저장\n",
    "l = []\n",
    "i = 1\n",
    "while i <= 45:\n",
    "    l.append(i)\n",
    "    i = i + 1\n",
    "print(l)\n",
    "l = []\n",
    "for i in range(1, 1 + 45):\n",
    "    l.append(i)\n",
    "print(l)\n",
    "# 리스트 컴프리헨션 : 리스트에 append일 때 사용\n",
    "l = [ i for i in range(1, 1 + 45) ]\n",
    "\n",
    "t = (3,4,5,7,8)\n",
    "l = []\n",
    "for i in t:\n",
    "    l.append(i * 3)\n",
    "print(l)\n",
    "l = [ i * 3 for i in t ]"
   ]
  },
  {
   "cell_type": "code",
   "execution_count": 38,
   "id": "28704727-54c7-4d1b-bba7-665b1c114cc7",
   "metadata": {},
   "outputs": [
    {
     "name": "stdout",
     "output_type": "stream",
     "text": [
      "[3, 4, 6, 8]\n"
     ]
    }
   ],
   "source": [
    "a = [1, 2]\n",
    "b = [3, 4]\n",
    "l = []\n",
    "for i in a:\n",
    "    #print(i)\n",
    "    for y in b: # [3, 4]\n",
    "        #print(y , end = \" \")\n",
    "        l.append(i * y)\n",
    "    #print()\n",
    "print(l)\n",
    "# 리스트 컴프리헨션\n",
    "l = [ i * y for i in a \n",
    "            for y in b ]\n",
    "print(l)"
   ]
  },
  {
   "cell_type": "code",
   "execution_count": 41,
   "id": "90183340-e457-435a-bdf9-cf25506f63ce",
   "metadata": {},
   "outputs": [
    {
     "name": "stdout",
     "output_type": "stream",
     "text": [
      "4950\n",
      "2550\n",
      "2500\n"
     ]
    }
   ],
   "source": [
    "# 1 ~ 100출력\n",
    "sum1 = 0\n",
    "for i in range(1, 100):\n",
    "    sum1 = sum1 + i\n",
    "    #print(i)\n",
    "print(sum1)\n",
    "# 1 ~ 100까지 수 중 짝수만 더하시오. : even\n",
    "sum1 = 0\n",
    "for i in range(1, 101):\n",
    "    if i % 2 == 0: \n",
    "        sum1 = sum1 + i\n",
    "print(sum1)\n",
    "# 1 ~ 100까지 수 중 홀수만 더하시오. : odd\n",
    "sum1 = 0\n",
    "for i in range(1, 101):\n",
    "    if i % 2 != 0:\n",
    "        sum1 = sum1 + i\n",
    "print(sum1)"
   ]
  },
  {
   "cell_type": "code",
   "execution_count": null,
   "id": "1cbb8e43-fbd2-4429-8bbf-ef2b1c31eecf",
   "metadata": {},
   "outputs": [],
   "source": [
    "# 1 ~ 100까지 수 중 홀수에 3을 곱합값을 리스트에 저장\n",
    "l = []\n",
    "for i in range(1, 101):\n",
    "    if i % 2 != 0:\n",
    "        l.append(i * 3)\n",
    "print(l)\n",
    "# 리스트 컴프리헨션 : append\n",
    "l = [i * 3 for i in range(1, 101) if i % 2 != 0 ]\n",
    "print(l)"
   ]
  },
  {
   "cell_type": "code",
   "execution_count": 46,
   "id": "a6750a19-c181-4488-bee4-94b2de8c6373",
   "metadata": {},
   "outputs": [
    {
     "name": "stdout",
     "output_type": "stream",
     "text": [
      "2550\n",
      "2550\n",
      "합계 2550\n"
     ]
    }
   ],
   "source": [
    "# break, continue\n",
    "# 1 ~ 100까지의 수 중 짝수의 합을 구하시오\n",
    "sum1 = 0\n",
    "for i in range(1, 101):\n",
    "    if i % 2 == 0:\n",
    "        sum1 = sum1 + i\n",
    "print(sum1)\n",
    "for i in range(1, 101):\n",
    "    if i % 2 != 0:\n",
    "        continue # 아래식이 실행되지 않고 for문으로 올라간다.\n",
    "    sum1 = sum1 + i\n",
    "sum1 = 0\n",
    "i = 1\n",
    "while i <= 100:\n",
    "    if i % 2 == 0:\n",
    "        sum1 = sum1 + i\n",
    "    i = i + 1\n",
    "print(sum1)\n",
    "\n",
    "sum1 = 0\n",
    "i = 0\n",
    "while i < 100:\n",
    "    i = i + 1\n",
    "    if i % 2 != 0:\n",
    "        continue \n",
    "    sum1 = sum1 + i\n",
    "print(\"합계\" , sum1)"
   ]
  },
  {
   "cell_type": "code",
   "execution_count": null,
   "id": "b97989a0-612a-4dad-b05e-3db76ffd4a7a",
   "metadata": {},
   "outputs": [],
   "source": [
    "sum1 = 0\n",
    "i = 1\n",
    "while True: # 무한루프\n",
    "    if i > 100:\n",
    "        break #  반복을 중지\n",
    "    sum1 += i\n",
    "    i += 1\n",
    "print(sum1)\n",
    "sum1 = 0\n",
    "for i in range(1, 10000):\n",
    "    if i > 100:\n",
    "        break\n",
    "    sum1 += i\n",
    "print(sum1)\n",
    "# 제어문 : 단일 if, if~else , if ~ elif ~ else , 한줄 if \n",
    "#          switch ~ case 대신 딕셔너리 사용\n",
    "#         while, for , 리스트 컴프리헨션 : append, continue, break , 한줄 반복문"
   ]
  },
  {
   "cell_type": "code",
   "execution_count": 52,
   "id": "b4975a16-a1db-4303-b6f4-504386249efd",
   "metadata": {},
   "outputs": [
    {
     "name": "stdout",
     "output_type": "stream",
     "text": [
      "[2, 4, 6, 8, 10, 12, 14, 16, 18, 3, 6, 9, 12, 15, 18, 21, 24, 27, 4, 8, 12, 16, 20, 24, 28, 32, 36, 5, 10, 15, 20, 25, 30, 35, 40, 45, 6, 12, 18, 24, 30, 36, 42, 48, 54, 7, 14, 21, 28, 35, 42, 49, 56, 63, 8, 16, 24, 32, 40, 48, 56, 64, 72, 9, 18, 27, 36, 45, 54, 63, 72, 81]\n",
      "[2, 4, 6, 8, 10, 12, 14, 16, 18, 3, 6, 9, 12, 15, 18, 21, 24, 27, 4, 8, 12, 16, 20, 24, 28, 32, 36, 5, 10, 15, 20, 25, 30, 35, 40, 45, 6, 12, 18, 24, 30, 36, 42, 48, 54, 7, 14, 21, 28, 35, 42, 49, 56, 63, 8, 16, 24, 32, 40, 48, 56, 64, 72, 9, 18, 27, 36, 45, 54, 63, 72, 81]\n",
      "[2, 4, 6, 8, 10, 12, 14, 16, 18, 3, 6, 9, 12, 15, 18, 21, 24, 27, 4, 8, 12, 16, 20, 24, 28, 32, 36, 5, 10, 15, 20, 25, 30, 35, 40, 45, 6, 12, 18, 24, 30, 36, 42, 48, 54, 7, 14, 21, 28, 35, 42, 49, 56, 63, 8, 16, 24, 32, 40, 48, 56, 64, 72, 9, 18, 27, 36, 45, 54, 63, 72, 81, 4, 8, 12, 16, 6, 12, 18, 24, 8, 16, 24, 32, 10, 20, 30, 40, 12, 24, 36, 48, 14, 28, 42, 56, 16, 32, 48, 64, 18, 36, 54, 72]\n",
      "[4, 8, 12, 16, 6, 12, 18, 24, 8, 16, 24, 32, 10, 20, 30, 40, 12, 24, 36, 48, 14, 28, 42, 56, 16, 32, 48, 64, 18, 36, 54, 72]\n",
      "[2, 4, 6, 8, 10, 12, 14, 16, 18, 4, 8, 12, 16, 20, 24, 28, 32, 36, 6, 12, 18, 24, 30, 36, 42, 48, 54, 8, 16, 24, 32, 40, 48, 56, 64, 72]\n",
      "[2, 4, 6, 8, 10, 12, 14, 16, 18, 4, 8, 12, 16, 20, 24, 28, 32, 36, 6, 12, 18, 24, 30, 36, 42, 48, 54, 8, 16, 24, 32, 40, 48, 56, 64, 72]\n"
     ]
    }
   ],
   "source": [
    "# 2단 9단까지의 곱의 값을 리스트에 저장\n",
    "l = []\n",
    "for dan in range(2, 10):\n",
    "    for gop in range(1, 10):\n",
    "        l.append(dan * gop)\n",
    "print(l)\n",
    "l = [dan * gop for dan in range(2, 10) \n",
    "               for gop in range(1, 10)]\n",
    "print(l)\n",
    "# 2단부터 9단까지의 값중 짝수만 곱한 값을 리스트에 저장\n",
    "for dan in range(2, 10):\n",
    "    for gop in range(1, 10):\n",
    "        if gop % 2 == 0:\n",
    "            l.append(dan * gop)\n",
    "print(l)\n",
    "l = [dan * gop for dan in range(2, 10) \n",
    "               for gop in range(1, 10) if gop % 2 == 0 ]\n",
    "print(l)\n",
    "# 2단부터 9단까지의 짝수단만 값을 리스트에 저장\n",
    "l = []\n",
    "for dan in range(2, 10):\n",
    "    if dan % 2 == 0:\n",
    "        for gop in range(1, 10):\n",
    "            l.append(dan * gop)\n",
    "print(l)\n",
    "l = [dan * gop for dan in range(2, 10) if dan % 2 == 0 \n",
    "               for gop in range(1, 10) ]\n",
    "print(l)"
   ]
  },
  {
   "cell_type": "code",
   "execution_count": 57,
   "id": "20c508ee-73df-4c38-b7ec-f980aae172b5",
   "metadata": {},
   "outputs": [
    {
     "name": "stdout",
     "output_type": "stream",
     "text": [
      "(1, 2)\n",
      "(3, 4)\n",
      "(5, 6)\n",
      "1 2\n",
      "1 2\n",
      "3\n",
      "3 4\n",
      "7\n",
      "5 6\n",
      "11\n",
      "6\n",
      "15\n",
      "24\n"
     ]
    }
   ],
   "source": [
    "l1 = [(1,2),(3,4),(5,6)]\n",
    "for t in l1:\n",
    "    print(t)\n",
    "a , b = (1, 2)\n",
    "print(a, b)\n",
    "for a , b in l1: # a , b = (1, 2)\n",
    "    print(a, b)\n",
    "    print(a + b)\n",
    "l2 = [[1,2,3],[4,5,6],[7,8,9]]\n",
    "for a,b,c in l2: # a,b,c = [1,2,3]\n",
    "    print(a + b+ c)\n",
    "l2 = [[1,2,3],[4,5],[7,8,9,10]]\n",
    "for l in l2:\n",
    "    print(l)\n",
    "'''    \n",
    "for a,b,c in l2:\n",
    "    print(l)\n",
    "a,b,c = 10, 20, 30, 40;\n",
    "'''\n",
    "print()"
   ]
  },
  {
   "cell_type": "code",
   "execution_count": 59,
   "id": "e18c8b97-04fd-44ce-ae39-a4b935909b8e",
   "metadata": {},
   "outputs": [
    {
     "name": "stdout",
     "output_type": "stream",
     "text": [
      "31, 5, 32, 29, 30, 34, "
     ]
    }
   ],
   "source": [
    "import random\n",
    "'''\n",
    "lotto = []\n",
    "for i in range(1, 46):\n",
    "    lotto.append(i)\n",
    "'''\n",
    "lotto = [ i for i in range(1, 46) ]\n",
    "size = len(lotto)\n",
    "for num in range(0, 6):\n",
    "    size -= 1\n",
    "    idx = random.randint(0, size)\n",
    "    result = lotto.pop(idx)\n",
    "    print(result , end = \", \" )"
   ]
  },
  {
   "cell_type": "code",
   "execution_count": 63,
   "id": "9dbe70e4-32d6-4cfa-9b49-2d2dd24c5454",
   "metadata": {},
   "outputs": [
    {
     "name": "stdin",
     "output_type": "stream",
     "text": [
      "구매 수량을 입력하세요 :  7\n"
     ]
    },
    {
     "name": "stdout",
     "output_type": "stream",
     "text": [
      "27, 24, 21, 22, 18, 9, \n",
      "11, 38, 26, 42, 16, 14, \n",
      "1, 14, 32, 15, 3, 11, \n",
      "28, 24, 38, 11, 29, 41, \n",
      "26, 33, 19, 5, 10, 9, \n",
      "9, 30, 15, 20, 17, 38, \n",
      "36, 27, 10, 9, 34, 6, \n"
     ]
    }
   ],
   "source": [
    "qty = int(input(\"구매 수량을 입력하세요 : \")) # 5\n",
    "for cnt in range(0, qty):\n",
    "    lotto = [ i for i in range(1, 46) ]\n",
    "    size = len(lotto)\n",
    "    for num in range(0, 6):\n",
    "        size -= 1\n",
    "        idx = random.randint(0, size)\n",
    "        result = lotto.pop(idx)\n",
    "        print(result , end = \", \" )\n",
    "    print()"
   ]
  },
  {
   "cell_type": "code",
   "execution_count": 64,
   "id": "04039ed9-7baf-4325-8bf2-7c6a2e26332e",
   "metadata": {},
   "outputs": [],
   "source": [
    "# 함수 : x값에 따른 y값의 변화를 알고 싶을 때\n",
    "'''\n",
    "f(x) = 2x + 3일 때\n",
    "y = f(3)에서 y값은 y = 9\n",
    "y = f(5)에서 y값은 y = 13\n",
    "'''\n",
    "def f(x):\n",
    "    return 2*x + 3"
   ]
  },
  {
   "cell_type": "code",
   "execution_count": 66,
   "id": "a4e2a24f-5fd1-4e26-80b6-16bc8203114b",
   "metadata": {},
   "outputs": [
    {
     "name": "stdout",
     "output_type": "stream",
     "text": [
      "9\n",
      "13\n"
     ]
    }
   ],
   "source": [
    "y = f(3)\n",
    "print(y)\n",
    "y = f(5)\n",
    "print(y)"
   ]
  },
  {
   "cell_type": "code",
   "execution_count": 70,
   "id": "6d046a6f-b8f5-4bd5-b576-1fea59a22a4d",
   "metadata": {},
   "outputs": [],
   "source": [
    "'''\n",
    "f(x1, x2) = 3x1 + 5x2일때\n",
    "y = f(5, 3)에서 y값은?\n",
    "'''\n",
    "def f(x1, x2): # 피호출함수 , x1, x2 : 가인자, 매개변수 , parameter\n",
    "               # argument와 parameter는 1대1 대응한다.\n",
    "               # argument의 갯수와 parameter의 갯수는 같아야 한다.\n",
    "    return 3*x1 + 5*x2"
   ]
  },
  {
   "cell_type": "code",
   "execution_count": 72,
   "id": "47d54eed-7aad-47a7-b2ef-f532e5c7ba5f",
   "metadata": {},
   "outputs": [
    {
     "name": "stdout",
     "output_type": "stream",
     "text": [
      "30\n",
      "50030\n"
     ]
    }
   ],
   "source": [
    "y = f(5, 3) # f(5, 3) : 호출함수 | 5, 3 : 인자, argument\n",
    "print(y)\n",
    "y = f(10, 10000)\n",
    "print(y)\n",
    "# 상수, 변수, 함수\n",
    "'''\n",
    "def 함수명(parameter1, parameter2, parameter3,...,parameter_n):\n",
    "    명령어1\n",
    "    명령어2\n",
    "    명령어3\n",
    "    ...\n",
    "    명령어n\n",
    "    return 결과값\n",
    "\n",
    "변수 = 함수명(argument1, argument2, argument3,...,argument_n)\n",
    "print(변수)\n",
    "'''"
   ]
  },
  {
   "cell_type": "code",
   "execution_count": 73,
   "id": "883ee6ea-42ea-4679-a71b-de3622a5bae1",
   "metadata": {},
   "outputs": [
    {
     "name": "stdout",
     "output_type": "stream",
     "text": [
      "6 * 1 = 6\n",
      "6 * 2 = 12\n",
      "6 * 3 = 18\n",
      "6 * 4 = 24\n",
      "6 * 5 = 30\n",
      "6 * 6 = 36\n",
      "6 * 7 = 42\n",
      "6 * 8 = 48\n",
      "6 * 9 = 54\n"
     ]
    }
   ],
   "source": [
    "#  복잡하고 긴 코드를 반복 실행해야 하는 명령어를 사용하고 싶을 때 함수를 만들자\n",
    "# 6단 출력\n",
    "for num in range(1, 10):\n",
    "    print(f\"6 * {num} = {6 * num}\")"
   ]
  },
  {
   "cell_type": "code",
   "execution_count": 74,
   "id": "3778cd49-9881-4540-a00b-16d10ccb93be",
   "metadata": {},
   "outputs": [],
   "source": [
    "def dan6():\n",
    "    for num in range(1, 10):\n",
    "       print(f\"6 * {num} = {6 * num}\")"
   ]
  },
  {
   "cell_type": "code",
   "execution_count": null,
   "id": "cc5f68f5-46bc-433a-93d7-08804fa8bfe4",
   "metadata": {},
   "outputs": [],
   "source": [
    "dan6()\n",
    "dan6()\n",
    "dan6()"
   ]
  },
  {
   "cell_type": "code",
   "execution_count": 76,
   "id": "a20e8035-3514-43b5-87fa-44d2b8b771c6",
   "metadata": {},
   "outputs": [],
   "source": [
    "def guguDan6(dan):\n",
    "    for num in range(1, 10):\n",
    "       print(f\"{dan} * {num} = {dan * num}\")"
   ]
  },
  {
   "cell_type": "code",
   "execution_count": 77,
   "id": "ce56529f-9ea6-4ebe-b834-15f59db36956",
   "metadata": {},
   "outputs": [
    {
     "name": "stdout",
     "output_type": "stream",
     "text": [
      "2 * 1 = 2\n",
      "2 * 2 = 4\n",
      "2 * 3 = 6\n",
      "2 * 4 = 8\n",
      "2 * 5 = 10\n",
      "2 * 6 = 12\n",
      "2 * 7 = 14\n",
      "2 * 8 = 16\n",
      "2 * 9 = 18\n"
     ]
    }
   ],
   "source": [
    "guguDan6(2)"
   ]
  },
  {
   "cell_type": "code",
   "execution_count": 78,
   "id": "61caf1cb-a765-4599-aa67-dbe0413b6445",
   "metadata": {},
   "outputs": [
    {
     "name": "stdout",
     "output_type": "stream",
     "text": [
      "30\n"
     ]
    }
   ],
   "source": [
    "# 함수의 4가지유형\n",
    "# 일반적인 형식 : 매개변수와 반환값이 있는 경우\n",
    "def add(a, b):\n",
    "    return a + b\n",
    "y = add(10, 20)\n",
    "print(y)"
   ]
  },
  {
   "cell_type": "code",
   "execution_count": 79,
   "id": "e6866a77-d2f7-4b9f-9967-572dfc1e3954",
   "metadata": {},
   "outputs": [
    {
     "name": "stdout",
     "output_type": "stream",
     "text": [
      "30\n"
     ]
    }
   ],
   "source": [
    "# 2. 매개변수는 있고 반환값이 없는 경우\n",
    "def add(a, b):\n",
    "    print( a + b)\n",
    "add(10, 20) "
   ]
  },
  {
   "cell_type": "code",
   "execution_count": 80,
   "id": "92c1a72a-7925-4c7a-bbd2-c4a01132909c",
   "metadata": {},
   "outputs": [
    {
     "name": "stdout",
     "output_type": "stream",
     "text": [
      "30\n"
     ]
    }
   ],
   "source": [
    "# 3. 매개변수는 없고 반환값있는 경우\n",
    "def add():\n",
    "    x = 10\n",
    "    y = 20\n",
    "    return x + y\n",
    "y = add()\n",
    "print(y)"
   ]
  },
  {
   "cell_type": "code",
   "execution_count": 81,
   "id": "fead2057-e363-4352-9931-d038af50a5c7",
   "metadata": {},
   "outputs": [
    {
     "name": "stdout",
     "output_type": "stream",
     "text": [
      "30\n"
     ]
    }
   ],
   "source": [
    "# 4. 매개변수 없고 반환값도 없는 경우\n",
    "def add():\n",
    "    x = 10\n",
    "    y = 20\n",
    "    print(x + y)\n",
    "add()"
   ]
  },
  {
   "cell_type": "code",
   "execution_count": 83,
   "id": "8d416a1e-963b-4a89-8ad4-7d9ac0d8e25a",
   "metadata": {},
   "outputs": [
    {
     "name": "stdin",
     "output_type": "stream",
     "text": [
      "시작곱을 입력해주세요 :  1\n",
      "마지막곱을 입력해주세요 :  2\n"
     ]
    },
    {
     "name": "stdout",
     "output_type": "stream",
     "text": [
      "3 * 1 = 3\n",
      "3 * 2 = 6\n"
     ]
    }
   ],
   "source": [
    "startGop = int(input(\"시작곱을 입력해주세요 : \")) # 1\n",
    "endGop = int(input(\"마지막곱을 입력해주세요 : \")) # 9\n",
    "for gop in range(startGop, endGop + 1):\n",
    "    print(f\"3 * {gop} = {3 * gop}\")"
   ]
  },
  {
   "cell_type": "code",
   "execution_count": 85,
   "id": "b7a91fbf-a0f1-4dad-9607-8882630393ee",
   "metadata": {},
   "outputs": [],
   "source": [
    "# 1. 매개변수가 있고 반환값이 없는 경우\n",
    "def dan3(startGop, endGop):\n",
    "    for gop in range(startGop, endGop + 1):\n",
    "        print(f\"3 * {gop} = {3 * gop}\")"
   ]
  },
  {
   "cell_type": "code",
   "execution_count": 86,
   "id": "103783b0-9e94-4896-815d-8e3c6f75106e",
   "metadata": {},
   "outputs": [
    {
     "name": "stdin",
     "output_type": "stream",
     "text": [
      "시작곱을 입력해주세요 :  2\n",
      "마지막곱을 입력해주세요 :  4\n"
     ]
    },
    {
     "name": "stdout",
     "output_type": "stream",
     "text": [
      "3 * 2 = 6\n",
      "3 * 3 = 9\n",
      "3 * 4 = 12\n"
     ]
    }
   ],
   "source": [
    "startGop = int(input(\"시작곱을 입력해주세요 : \")) # 1\n",
    "endGop = int(input(\"마지막곱을 입력해주세요 : \")) # 9\n",
    "dan3(startGop, endGop)"
   ]
  },
  {
   "cell_type": "code",
   "execution_count": 87,
   "id": "2285503c-6804-4763-aa2c-4589c64aeffe",
   "metadata": {},
   "outputs": [],
   "source": [
    "def dan3():\n",
    "    startGop = int(input(\"시작곱을 입력해주세요 : \")) # 1\n",
    "    endGop = int(input(\"마지막곱을 입력해주세요 : \")) # 9\n",
    "    for gop in range(startGop, endGop + 1):\n",
    "        print(f\"3 * {gop} = {3 * gop}\")"
   ]
  },
  {
   "cell_type": "code",
   "execution_count": 88,
   "id": "65958bf8-6bbe-449d-b791-9c16bc3fd096",
   "metadata": {},
   "outputs": [
    {
     "name": "stdin",
     "output_type": "stream",
     "text": [
      "시작곱을 입력해주세요 :  2\n",
      "마지막곱을 입력해주세요 :  4\n"
     ]
    },
    {
     "name": "stdout",
     "output_type": "stream",
     "text": [
      "3 * 2 = 6\n",
      "3 * 3 = 9\n",
      "3 * 4 = 12\n"
     ]
    }
   ],
   "source": [
    "dan3()"
   ]
  },
  {
   "cell_type": "code",
   "execution_count": 90,
   "id": "54492f98-d1a0-4042-b5b4-5a91ee340fa6",
   "metadata": {},
   "outputs": [],
   "source": [
    "def lottoFnc():\n",
    "    qty = int(input(\"구매 수량을 입력하세요 : \")) # 5\n",
    "    for cnt in range(0, qty):\n",
    "        lotto = [ i for i in range(1, 46) ]\n",
    "        size = len(lotto)\n",
    "        for num in range(0, 6):\n",
    "            size -= 1\n",
    "            idx = random.randint(0, size)\n",
    "            result = lotto.pop(idx)\n",
    "            print(result , end = \", \" )\n",
    "        print()"
   ]
  },
  {
   "cell_type": "code",
   "execution_count": 91,
   "id": "b9ed3a33-7241-4898-9fe7-4aa6fbe9219f",
   "metadata": {},
   "outputs": [
    {
     "name": "stdin",
     "output_type": "stream",
     "text": [
      "구매 수량을 입력하세요 :  4\n"
     ]
    },
    {
     "name": "stdout",
     "output_type": "stream",
     "text": [
      "26, 24, 4, 37, 7, 28, \n",
      "19, 4, 39, 25, 41, 27, \n",
      "11, 17, 13, 30, 21, 7, \n",
      "41, 36, 45, 33, 9, 30, \n"
     ]
    }
   ],
   "source": [
    "lottoFnc()"
   ]
  },
  {
   "cell_type": "code",
   "execution_count": 92,
   "id": "6dd537ab-0e51-4c4d-a4df-8b6158bb3a14",
   "metadata": {},
   "outputs": [],
   "source": [
    "# parameter이름을 이용해서 값을 전달\n",
    "def sum1(num1, num2):  # 1, 100\n",
    "    sum2 = 0\n",
    "    for i in range(num1, num2 + 1):\n",
    "        sum2 += i\n",
    "    print(sum2)"
   ]
  },
  {
   "cell_type": "code",
   "execution_count": 94,
   "id": "cdb53e9a-f7d6-4990-89bb-a387c9a996ac",
   "metadata": {},
   "outputs": [
    {
     "name": "stdout",
     "output_type": "stream",
     "text": [
      "5050\n",
      "5050\n",
      "5050\n"
     ]
    }
   ],
   "source": [
    "sum1(1, 100)\n",
    "sum1(num1 = 1, num2 = 100)\n",
    "sum1(num2 = 100 , num1 = 1)"
   ]
  },
  {
   "cell_type": "code",
   "execution_count": 96,
   "id": "a334571f-a00e-448a-a5fd-80c6ea3138bc",
   "metadata": {},
   "outputs": [],
   "source": [
    "def calc(x1, x2, opt):\n",
    "    if opt == \"add\":\n",
    "        result = x1 + x2\n",
    "    elif opt == \"sub\":\n",
    "        result = x1 - x2\n",
    "    elif opt == \"mul\":\n",
    "        result = x1 * x2\n",
    "    else:\n",
    "        result = x1 / x2\n",
    "    return result"
   ]
  },
  {
   "cell_type": "code",
   "execution_count": 98,
   "id": "a023bf49-f4cb-4df6-ac49-90ae81c80d4b",
   "metadata": {},
   "outputs": [
    {
     "ename": "SyntaxError",
     "evalue": "positional argument follows keyword argument (3325914916.py, line 7)",
     "output_type": "error",
     "traceback": [
      "  \u001b[36mCell\u001b[39m\u001b[36m \u001b[39m\u001b[32mIn[98]\u001b[39m\u001b[32m, line 7\u001b[39m\n\u001b[31m    \u001b[39m\u001b[31my = calc(20, opt=\"add\", 2)\u001b[39m\n                             ^\n\u001b[31mSyntaxError\u001b[39m\u001b[31m:\u001b[39m positional argument follows keyword argument\n"
     ]
    }
   ],
   "source": [
    "y = calc(20, 2, \"add\")\n",
    "print(y)\n",
    "y = calc(20, 2, opt=\"add\")\n",
    "print(y)\n",
    "y = calc(20, opt=\"add\", x2=2)\n",
    "print(y)\n",
    "'''\n",
    "y = calc(20, opt=\"add\", 2)\n",
    "print(y)\n",
    "'''"
   ]
  },
  {
   "cell_type": "code",
   "execution_count": 104,
   "id": "00204ecc-6a7f-4e2b-a78b-7b869e85c588",
   "metadata": {},
   "outputs": [
    {
     "name": "stdout",
     "output_type": "stream",
     "text": [
      "(1, 2, 3, 4, 5)\n",
      "(1, 2, 4, 4, 5)\n",
      "16\n",
      "(1,)\n",
      "1\n",
      "(1, 2, 3, 4, 4, 5)\n",
      "19\n"
     ]
    }
   ],
   "source": [
    "'''\n",
    "sum1(1)\n",
    "sum1(1,2,3,4,4,5)\n",
    "sum1(1,2,4,4,5)\n",
    "'''\n",
    "t = 1,2,3,4,5\n",
    "print(t)\n",
    "def sum1(*para): #tuple\n",
    "    print(para)\n",
    "    sum2 = 0\n",
    "    for num in para:\n",
    "        sum2 += num\n",
    "    print(sum2)\n",
    "\n",
    "sum1(1,2,4,4,5)\n",
    "sum1(1)\n",
    "sum1(1,2,3,4,4,5)"
   ]
  },
  {
   "cell_type": "code",
   "execution_count": 105,
   "id": "382646bf-d412-49d7-a6c8-91a25ffc38f2",
   "metadata": {},
   "outputs": [
    {
     "name": "stdout",
     "output_type": "stream",
     "text": [
      "22\n",
      "24\n"
     ]
    }
   ],
   "source": [
    "'''\n",
    "add_mul(\"add\", 1,2,3,4,5,6)\n",
    "add_mul(\"mul\", 1,2,3,4)\n",
    "'''            # *para: 튜플\n",
    "def add_mul(opt, *para):\n",
    "    sum2 = 1\n",
    "    if opt == \"add\":\n",
    "        for num in para:\n",
    "            sum2 += num\n",
    "    elif opt == \"mul\":\n",
    "        for num in para:\n",
    "            sum2 *= num\n",
    "    print(sum2)\n",
    "add_mul(\"add\", 1,2,3,4,5,6)\n",
    "add_mul(\"mul\", 1,2,3,4)"
   ]
  },
  {
   "cell_type": "code",
   "execution_count": 106,
   "id": "891aa608-2a89-4682-9b2b-3fe7b24bd707",
   "metadata": {},
   "outputs": [],
   "source": [
    "# argument를 딕셔너리로 받자.\n",
    "def dic1(**para):\n",
    "    print(para)"
   ]
  },
  {
   "cell_type": "code",
   "execution_count": 107,
   "id": "8773e66a-87a7-4a67-95c9-517eef770f58",
   "metadata": {},
   "outputs": [
    {
     "name": "stdout",
     "output_type": "stream",
     "text": [
      "{'a': 10, 'b': 20}\n"
     ]
    }
   ],
   "source": [
    "dic1(a = 10, b = 20)"
   ]
  },
  {
   "cell_type": "code",
   "execution_count": 108,
   "id": "c6b28faa-58d9-45ce-8b5d-3d9e8f6ab1a8",
   "metadata": {},
   "outputs": [
    {
     "name": "stdout",
     "output_type": "stream",
     "text": [
      "30\n"
     ]
    }
   ],
   "source": [
    "# 함수의 리턴값은 언제나 하나이다\n",
    "def add(x1 , x2):\n",
    "    return x1 + x2\n",
    "y = add(10 , 20)\n",
    "print(y)"
   ]
  },
  {
   "cell_type": "code",
   "execution_count": 109,
   "id": "746971e3-2956-4a3e-89fd-0451b705a28d",
   "metadata": {},
   "outputs": [
    {
     "name": "stdout",
     "output_type": "stream",
     "text": [
      "30\n"
     ]
    }
   ],
   "source": [
    "def add_mul(x1 , x2): #return문은 함수에서 한번만 사용가능하다.\n",
    "    return x1 + x2 # 처음 것만 반환 , 함수종료\n",
    "    return x1 * x2 # 실행하지 못한다.\n",
    "y = add(10 , 20)\n",
    "print(y)"
   ]
  },
  {
   "cell_type": "code",
   "execution_count": 111,
   "id": "5093d901-d9d8-496e-a5aa-8c8ef6f26b6d",
   "metadata": {},
   "outputs": [
    {
     "name": "stdout",
     "output_type": "stream",
     "text": [
      "30\n",
      "200\n"
     ]
    }
   ],
   "source": [
    "def add_mul(x1 , x2): # 반환값이 여러개일때는 튜플로 묶여서 반환된다.\n",
    "    return x1 + x2, x1 * x2 # 30, 200 : 튜플\n",
    "a, b = add_mul(10, 20)\n",
    "print(a)\n",
    "print(b)"
   ]
  },
  {
   "cell_type": "code",
   "execution_count": 112,
   "id": "56d8b457-a9f6-4606-a9f9-a9ed8b30b44f",
   "metadata": {},
   "outputs": [
    {
     "name": "stdout",
     "output_type": "stream",
     "text": [
      "(1, 2, 3, 4)\n"
     ]
    }
   ],
   "source": [
    "t = 1,2,3,4\n",
    "print(t)"
   ]
  },
  {
   "cell_type": "code",
   "execution_count": 113,
   "id": "77612b7e-6ee3-4094-84da-7c1736fd4c62",
   "metadata": {},
   "outputs": [
    {
     "name": "stdout",
     "output_type": "stream",
     "text": [
      "나의 이름은 이숭무입니다.\n",
      "나의 나이는 35입니다.\n",
      "남자입니다.\n"
     ]
    }
   ],
   "source": [
    "\n",
    "def say_myself(name, old, man):\n",
    "    print(f\"나의 이름은 {name}입니다.\")\n",
    "    print(f\"나의 나이는 {old}입니다.\")\n",
    "    if man: # True\n",
    "        print(\"남자입니다.\")\n",
    "    else: # False\n",
    "        print(\"여자입니다.\")\n",
    "say_myself(\"이숭무\", 35, True)"
   ]
  },
  {
   "cell_type": "code",
   "execution_count": 115,
   "id": "465a84d0-4258-44e8-a56d-91ece09f2abe",
   "metadata": {},
   "outputs": [
    {
     "name": "stdout",
     "output_type": "stream",
     "text": [
      "나의 이름은 이숭무입니다.\n",
      "나의 나이는 35입니다.\n",
      "남자입니다.\n",
      "나의 이름은 이숭무입니다.\n",
      "나의 나이는 35입니다.\n",
      "여자입니다.\n"
     ]
    }
   ],
   "source": [
    "#### 매개변수에 초깃값 미리 설정하기 \n",
    "def say_myself(name, old, man = True):\n",
    "    print(f\"나의 이름은 {name}입니다.\")\n",
    "    print(f\"나의 나이는 {old}입니다.\")\n",
    "    if man: # True\n",
    "        print(\"남자입니다.\")\n",
    "    else: # False\n",
    "        print(\"여자입니다.\")\n",
    "say_myself(\"이숭무\", 35)\n",
    "say_myself(\"이숭무\", 35, False)"
   ]
  },
  {
   "cell_type": "code",
   "execution_count": 116,
   "id": "0db1d0ee-655b-4409-bd18-deb5e2603db0",
   "metadata": {},
   "outputs": [
    {
     "name": "stdout",
     "output_type": "stream",
     "text": [
      "나의 이름은 이숭무입니다.\n",
      "나의 나이는 30입니다.\n",
      "남자입니다.\n",
      "나의 이름은 이숭무입니다.\n",
      "나의 나이는 36입니다.\n",
      "남자입니다.\n",
      "나의 이름은 이숭무입니다.\n",
      "나의 나이는 35입니다.\n",
      "여자입니다.\n"
     ]
    }
   ],
   "source": [
    "def say_myself(name, old=30, man = True):\n",
    "    print(f\"나의 이름은 {name}입니다.\")\n",
    "    print(f\"나의 나이는 {old}입니다.\")\n",
    "    if man: # True\n",
    "        print(\"남자입니다.\")\n",
    "    else: # False\n",
    "        print(\"여자입니다.\")\n",
    "say_myself(\"이숭무\")\n",
    "say_myself(\"이숭무\", 36)\n",
    "say_myself(\"이숭무\", 35, False)"
   ]
  },
  {
   "cell_type": "code",
   "execution_count": 117,
   "id": "cacb05d9-3948-4262-b4d9-b377492edbbb",
   "metadata": {},
   "outputs": [
    {
     "ename": "SyntaxError",
     "evalue": "parameter without a default follows parameter with a default (4229338451.py, line 1)",
     "output_type": "error",
     "traceback": [
      "  \u001b[36mCell\u001b[39m\u001b[36m \u001b[39m\u001b[32mIn[117]\u001b[39m\u001b[32m, line 1\u001b[39m\n\u001b[31m    \u001b[39m\u001b[31mdef say_myself(name, old=30, man):\u001b[39m\n                                 ^\n\u001b[31mSyntaxError\u001b[39m\u001b[31m:\u001b[39m parameter without a default follows parameter with a default\n"
     ]
    }
   ],
   "source": [
    "def say_myself(name, old=30, man):\n",
    "    print(f\"나의 이름은 {name}입니다.\")\n",
    "    print(f\"나의 나이는 {old}입니다.\")\n",
    "    if man: # True\n",
    "        print(\"남자입니다.\")\n",
    "    else: # False\n",
    "        print(\"여자입니다.\")\n",
    "say_myself(\"이숭무\")\n",
    "say_myself(\"이숭무\", False )\n",
    "say_myself(\"이숭무\", 35, False)"
   ]
  },
  {
   "cell_type": "code",
   "execution_count": 118,
   "id": "41a002ea-4a66-4c45-bd6e-1fc0aa9bd98e",
   "metadata": {},
   "outputs": [
    {
     "name": "stdout",
     "output_type": "stream",
     "text": [
      "8\n"
     ]
    }
   ],
   "source": [
    "### lambda함수 : 함수를 마치 변수처럼 선언해서 사용\n",
    "# 일반 함수\n",
    "def add(a, b):\n",
    "    return a + b\n",
    "y = add(3, 5)\n",
    "print(y)"
   ]
  },
  {
   "cell_type": "code",
   "execution_count": 119,
   "id": "2e2d0a94-375e-41e3-97c6-b792aa29f2bc",
   "metadata": {},
   "outputs": [
    {
     "name": "stdout",
     "output_type": "stream",
     "text": [
      "8\n"
     ]
    }
   ],
   "source": [
    "# 람다함수\n",
    "add = lambda  a, b : a + b\n",
    "y = add(3, 5)\n",
    "print(y)"
   ]
  },
  {
   "cell_type": "code",
   "execution_count": null,
   "id": "3a66b2fd-10bd-4a66-8d4a-f9f81be329fc",
   "metadata": {},
   "outputs": [],
   "source": [
    "# 일반 함수\n",
    "def add(a, b):\n",
    "    print( a + b )\n",
    "add(3, 5)"
   ]
  },
  {
   "cell_type": "code",
   "execution_count": 120,
   "id": "277c9226-04be-40d3-bd98-34ef2bc4e089",
   "metadata": {},
   "outputs": [
    {
     "name": "stdout",
     "output_type": "stream",
     "text": [
      "8\n"
     ]
    }
   ],
   "source": [
    "add = lambda a, b : print( a + b )\n",
    "add(3, 5)"
   ]
  },
  {
   "cell_type": "code",
   "execution_count": null,
   "id": "c124e666-48cf-44b1-808c-0e69662930d4",
   "metadata": {},
   "outputs": [],
   "source": [
    "# 일반함수\n",
    "def calc(opt , a, b):\n",
    "    if opt == \"add\":\n",
    "        return a + b \n",
    "    else:\n",
    "        return a - b\n",
    "        \n",
    "calc(\"add\", 3, 4)"
   ]
  },
  {
   "cell_type": "code",
   "execution_count": null,
   "id": "5d2cdde3-7b84-4af8-9a91-6e6f938d1d1e",
   "metadata": {},
   "outputs": [],
   "source": [
    "calc = lambda opt , a, b : a + b if opt == \"add\" else a - b"
   ]
  },
  {
   "cell_type": "code",
   "execution_count": null,
   "id": "83d64b3c-1357-407d-9647-8eedd50ca60e",
   "metadata": {},
   "outputs": [],
   "source": [
    "# 일반함수\n",
    "def calc(opt , a, b):\n",
    "    if opt == \"add\":\n",
    "        print( a + b) \n",
    "    else:\n",
    "        print( a - b )\n",
    "        \n",
    "calc(\"add\", 3, 4)"
   ]
  },
  {
   "cell_type": "code",
   "execution_count": 122,
   "id": "36f5d5b1-7f02-4adf-a499-2079b6aec5b3",
   "metadata": {},
   "outputs": [
    {
     "name": "stdout",
     "output_type": "stream",
     "text": [
      "7\n"
     ]
    }
   ],
   "source": [
    "calc = lambda  opt , a, b : print( a + b) if opt == \"add\" else print( a - b )\n",
    "calc(\"add\", 3, 4)"
   ]
  },
  {
   "cell_type": "code",
   "execution_count": null,
   "id": "774cdf0d-bdfa-47e1-a1da-5d3e8dfd1cde",
   "metadata": {},
   "outputs": [],
   "source": [
    "def calc(opt, a, b):\n",
    "    if opt == \"add\":\n",
    "        return a + b\n",
    "    elif opt == \"sub\":\n",
    "        return a - b\n",
    "    elif opt == \"mul\":\n",
    "        return a * b\n",
    "    else:\n",
    "        return a / b\n"
   ]
  },
  {
   "cell_type": "code",
   "execution_count": 123,
   "id": "a0081ae2-2025-4978-8fdd-8019050d746e",
   "metadata": {},
   "outputs": [
    {
     "name": "stdout",
     "output_type": "stream",
     "text": [
      "200\n"
     ]
    }
   ],
   "source": [
    "calc = lambda opt, a, b: a + b  if opt == \"add\" else(\n",
    "                         a - b  if opt == \"sub\" else(\n",
    "                         a * b  if opt == \"mul\" else \n",
    "                         a / b\n",
    "                         ))\n",
    "result = calc(\"mul\", 10, 20)\n",
    "print(result)"
   ]
  },
  {
   "cell_type": "code",
   "execution_count": null,
   "id": "4c5207d4-6717-412b-927e-fe294a521ce6",
   "metadata": {},
   "outputs": [],
   "source": [
    "def calc(opt, a, b):\n",
    "    if opt == \"add\":\n",
    "        message = a + b\n",
    "    elif opt == \"sub\":\n",
    "        message = a - b\n",
    "    elif opt == \"mul\":\n",
    "        message = a * b\n",
    "    else:\n",
    "        message = a / b\n",
    "    return message"
   ]
  },
  {
   "cell_type": "code",
   "execution_count": null,
   "id": "918efc88-dc6b-46ae-8e6d-7c92053eaaac",
   "metadata": {},
   "outputs": [],
   "source": [
    "calc = lambda opt, a, b: a + b if opt == \"add\" else(\n",
    "                         a - b if opt == \"sub\" else(\n",
    "                         a * b if opt == \"mul\" else                         a / b\n",
    "                         a / b   \n",
    "                         ))"
   ]
  },
  {
   "cell_type": "code",
   "execution_count": null,
   "id": "206fffea-ca99-4d7a-a12a-6b8dc30f4e85",
   "metadata": {},
   "outputs": [],
   "source": [
    "def add(a, b=4):\n",
    "    return a + b"
   ]
  },
  {
   "cell_type": "code",
   "execution_count": null,
   "id": "cbe53cff-0f8f-46e9-96cb-9b2d3b01d4fe",
   "metadata": {},
   "outputs": [],
   "source": [
    "add = lambda a, b=4 :  a + b\n",
    "result = add(3)\n",
    "print(result)"
   ]
  },
  {
   "cell_type": "code",
   "execution_count": 125,
   "id": "fee07824-7519-4206-a0f2-182110f1632a",
   "metadata": {},
   "outputs": [],
   "source": [
    "#전역변수 : 프로그램 전체에서 사용 가능한 변수, 함수밖에 있는 변수\n",
    "#지역변수 : 함수안에 정의 되어 있는 변수 , 함수안에서만 사용가능한 변수\n",
    "b = 100\n",
    "def test2():\n",
    "    c1 = 200 # 지역변수 : 함수 안에서만 사용 가능한 변수\n",
    "    print(\"전역변수 : \" + str(b))\n",
    "    print(\"지역변수 : \" + str(c1))"
   ]
  },
  {
   "cell_type": "code",
   "execution_count": 127,
   "id": "88de059c-d634-48c3-94c0-47a5d5688332",
   "metadata": {},
   "outputs": [
    {
     "name": "stdout",
     "output_type": "stream",
     "text": [
      "전역변수 : 100\n",
      "지역변수 : 200\n"
     ]
    },
    {
     "ename": "NameError",
     "evalue": "name 'c1' is not defined",
     "output_type": "error",
     "traceback": [
      "\u001b[31m---------------------------------------------------------------------------\u001b[39m",
      "\u001b[31mNameError\u001b[39m                                 Traceback (most recent call last)",
      "\u001b[36mCell\u001b[39m\u001b[36m \u001b[39m\u001b[32mIn[127]\u001b[39m\u001b[32m, line 2\u001b[39m\n\u001b[32m      1\u001b[39m test2()\n\u001b[32m----> \u001b[39m\u001b[32m2\u001b[39m \u001b[38;5;28mprint\u001b[39m(\u001b[43mc1\u001b[49m)\n",
      "\u001b[31mNameError\u001b[39m: name 'c1' is not defined"
     ]
    }
   ],
   "source": [
    "test2()\n",
    "#print(c1)"
   ]
  },
  {
   "cell_type": "code",
   "execution_count": 130,
   "id": "e8e1bedd-e694-4744-80fb-1d709f9b71e1",
   "metadata": {},
   "outputs": [],
   "source": [
    "b = 100\n",
    "def test2():\n",
    "    c1 = 200 # 지역변수 : 함수 안에서만 사용 가능한 변수\n",
    "    b = 1 # 지역변수\n",
    "    print(\"지역변수 : \" + str(b))\n",
    "    print(\"지역변수 : \" + str(c1))"
   ]
  },
  {
   "cell_type": "code",
   "execution_count": 131,
   "id": "8f01d0f0-ab38-439d-8ba6-85eaa17320e5",
   "metadata": {},
   "outputs": [
    {
     "name": "stdout",
     "output_type": "stream",
     "text": [
      "100\n",
      "지역변수 : 1\n",
      "지역변수 : 200\n",
      "100\n"
     ]
    }
   ],
   "source": [
    "print(b)\n",
    "test2()\n",
    "print(b)"
   ]
  },
  {
   "cell_type": "code",
   "execution_count": 133,
   "id": "d8b0b5dd-4926-424f-aedc-011264cf4f57",
   "metadata": {},
   "outputs": [],
   "source": [
    "b = 100\n",
    "def test2():\n",
    "    global b\n",
    "    c1 = 200 # 지역변수 : 함수 안에서만 사용 가능한 변수\n",
    "    b = 1 # 전역변수\n",
    "    print(\"전역변수 : \" + str(b))\n",
    "    print(\"지역변수 : \" + str(c1))"
   ]
  },
  {
   "cell_type": "code",
   "execution_count": 134,
   "id": "5f02d04f-8564-4b70-a6e4-6d1eff555d79",
   "metadata": {},
   "outputs": [
    {
     "name": "stdout",
     "output_type": "stream",
     "text": [
      "100\n",
      "전역변수 : 1\n",
      "지역변수 : 200\n",
      "1\n"
     ]
    }
   ],
   "source": [
    "print(b)\n",
    "test2()\n",
    "print(b)"
   ]
  },
  {
   "cell_type": "code",
   "execution_count": 136,
   "id": "eeb594c2-d276-47df-8dea-78de4b3baf95",
   "metadata": {},
   "outputs": [],
   "source": [
    "# 파일입출력 : open()함수\n",
    "# open(file, mode='r', buffering=None, encoding=None, errors=None, newline=None, closefd=True):\n",
    "#open(\"C:/Users/soldesk/Desktop/test.txt\", mode=\"w\", encoding=\"utf-8\")\n",
    "f = open(\"test.txt\",mode=\"w\", encoding=\"utf-8\")\n",
    "f.write(\"1번째 줄입니다.\\n\")\n",
    "f.write(\"2번째 줄입니다.\\n\")\n",
    "f.write(\"3번째 줄입니다.\\n\")\n",
    "f.write(\"4번째 줄입니다.\\n\")\n",
    "f.write(\"5번째 줄입니다.\\n\")\n",
    "f.close()"
   ]
  },
  {
   "cell_type": "code",
   "execution_count": 137,
   "id": "4b540a91-6026-433e-97f1-64c727a28539",
   "metadata": {},
   "outputs": [],
   "source": [
    "f = open(\"test.txt\",mode=\"w\", encoding=\"utf-8\")#overwrite\n",
    "for num in range(6, 11):\n",
    "    f.write(f\"{num}번째 줄입니다.\\n\")\n",
    "f.close()"
   ]
  },
  {
   "cell_type": "code",
   "execution_count": 138,
   "id": "7f27d2f8-7723-4289-8d53-230a3a0bd1ae",
   "metadata": {},
   "outputs": [],
   "source": [
    "f = open(\"test.txt\",mode=\"a\", encoding=\"utf-8\")#append\n",
    "for num in range(11, 16):\n",
    "    f.write(f\"{num}번째 줄입니다.\\n\")\n",
    "f.close()"
   ]
  },
  {
   "cell_type": "code",
   "execution_count": 146,
   "id": "98ad4a52-4e40-4d5b-bd61-f72f5200d54b",
   "metadata": {},
   "outputs": [],
   "source": [
    "f = open(\"test.txt\", encoding=\"utf-8\")"
   ]
  },
  {
   "cell_type": "code",
   "execution_count": 168,
   "id": "3b7a3908-1072-4942-acf2-c6aaf4f0429a",
   "metadata": {},
   "outputs": [
    {
     "name": "stdout",
     "output_type": "stream",
     "text": [
      "\n"
     ]
    }
   ],
   "source": [
    "line = f.readline()\n",
    "print(line)\n",
    "f.close()"
   ]
  },
  {
   "cell_type": "code",
   "execution_count": 170,
   "id": "2226af64-b0b0-438a-bc06-a061e0aca3cb",
   "metadata": {},
   "outputs": [
    {
     "name": "stdout",
     "output_type": "stream",
     "text": [
      "6번째 줄입니다.\n",
      "\n",
      "7번째 줄입니다.\n",
      "\n",
      "8번째 줄입니다.\n",
      "\n",
      "9번째 줄입니다.\n",
      "\n",
      "10번째 줄입니다.\n",
      "\n",
      "11번째 줄입니다.\n",
      "\n",
      "12번째 줄입니다.\n",
      "\n",
      "13번째 줄입니다.\n",
      "\n",
      "14번째 줄입니다.\n",
      "\n",
      "15번째 줄입니다.\n",
      "\n"
     ]
    }
   ],
   "source": [
    "f = open(\"test.txt\", encoding=\"utf-8\")\n",
    "while True:\n",
    "    line = f.readline()\n",
    "    if not line :\n",
    "        break\n",
    "    print(line)"
   ]
  }
 ],
 "metadata": {
  "kernelspec": {
   "display_name": "Python 3 (ipykernel)",
   "language": "python",
   "name": "python3"
  },
  "language_info": {
   "codemirror_mode": {
    "name": "ipython",
    "version": 3
   },
   "file_extension": ".py",
   "mimetype": "text/x-python",
   "name": "python",
   "nbconvert_exporter": "python",
   "pygments_lexer": "ipython3",
   "version": "3.13.3"
  }
 },
 "nbformat": 4,
 "nbformat_minor": 5
}
